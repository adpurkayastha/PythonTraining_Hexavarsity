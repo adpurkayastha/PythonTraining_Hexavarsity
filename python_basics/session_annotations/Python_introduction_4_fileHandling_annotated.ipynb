{
  "cells": [
    {
      "cell_type": "markdown",
      "metadata": {
        "id": "p-gdfk698mG5"
      },
      "source": [
        "# Receiving Data\n",
        "\n",
        "Normally you will receive data by opening files, rarely using the arguments from the terminal and very rarely directly from the keyboard. However we will detail how to get data from the keyboard and then opening files, we will not review getting parameters from the terminal."
      ]
    },
    {
      "cell_type": "markdown",
      "metadata": {
        "id": "J3K8vqJn8mG7"
      },
      "source": [
        "## Keyboard o stidn"
      ]
    },
    {
      "cell_type": "code",
      "execution_count": 1,
      "metadata": {
        "id": "wor-z7hy8mG8"
      },
      "outputs": [
        {
          "name": "stdout",
          "output_type": "stream",
          "text": [
            "50000\n"
          ]
        }
      ],
      "source": [
        "a = input(\"Input your number: \")\n",
        "print(a)"
      ]
    },
    {
      "cell_type": "markdown",
      "metadata": {
        "id": "5MAR2S8a8mG9"
      },
      "source": [
        "## Opening Files  \n",
        "\n",
        "File handling is an important aspect of programming, as it allows you to read from and write to files on your computer. In Python, you can use the built-in `open` function to open a file and perform various operations, such as reading from or writing to the file.\n",
        "\n",
        "### Reading\n",
        "Here's an example of how to read the contents of a file:\n",
        "\n",
        "```python\n",
        "# Open the file in read mode\n",
        "with open(\"file.txt\", \"r\") as file_handler:\n",
        "    # Read the contents of the file\n",
        "    contents = file_handler.read()\n",
        "    print(contents)\n",
        "```\n",
        "\n",
        "In this example, the `open` function is used to open the file \"file.txt\" in read mode (denoted by the `\"r\"` argument). The `with` statement is used to ensure that the file is properly closed, even if an exception is raised during the execution of the code block. The `file.read()` method is then used to read the `contents` of the file and store them in the contents variable. Finally, the contents are printed to the console.\n",
        "\n",
        "### Writing\n",
        "Here's an example of how to write to a file:\n",
        "\n",
        "```python\n",
        "# Open the file in write mode\n",
        "with open(\"file.txt\", \"w\") as file_handler:\n",
        "    # Write to the file\n",
        "    file_handler.write(\"Hello, World!\")\n",
        "```\n",
        "\n",
        "In this example, the `open` function is used to open the file \"file.txt\" in write mode (denoted by the `\"w\"` argument). The `with` statement is used to ensure that the file is properly closed, even if an exception is raised during the execution of the code block. The `file.write` method is then used to write the string \"Hello, World!\" to the file.\n",
        "\n",
        "### Options to open a file\n",
        "\n",
        "Here is a table of the options available for reading a file in Python using the `open` function:\n",
        "\n",
        "Option | Description\n",
        "------- | -----------\n",
        "\"r\" | Open the file for reading (default).\n",
        "\"w\" | Open the file for writing. If the file already exists, its contents will be overwritten. If the file does not exist, a new file will be created.\n",
        "\"a\" | Open the file for appending. Any new data written to the file will be added to the end of the file, without overwriting its existing contents.\n",
        "\"x\" | Open the file for exclusive creation. If the file already exists, an error will be raised. This option is only available in Python 3.3 and later.\n",
        "\"b\" | Open the file in binary mode. The file contents are read as binary data and can be manipulated as bytes.\n",
        "\"+\" | Open the file for both reading and writing.\n",
        "\n",
        "### Other ways to open a file\n",
        "Python allows to open files in an easy and simple way, there is more than one way to do it and depending on the order and care you take it doesn't matter which one you use (but I will recommend you to use the `with` statement), here is a way to do it in which you must close the file explicitly after using it.\n",
        "\n",
        "```python\n",
        "file_handler = open(\"file.txt\", \"r\") # Open the file\n",
        "count_lines = 0\n",
        "for line in file_handler:\n",
        "    # Conditions were set so that the entire file would not be printed.\n",
        "    if icount_lines > 9:\n",
        "        break\n",
        "    else:\n",
        "        print(line)\n",
        "        count_lines += 1\n",
        "file_handler.close()\n",
        "```\n"
      ]
    },
    {
      "cell_type": "markdown",
      "metadata": {
        "id": "gP-5Q-vu8mG-"
      },
      "source": [
        "### With statement\n",
        "The `with` statement in Python is a convenient way to manage resources, such as file handles, network connections, and other objects that need to be cleaned up after they are used. The `with` statement provides a way to wrap the use of a resource with a block of code, ensuring that the resource is automatically cleaned up even if an exception is raised.\n",
        "\n",
        "The general syntax for the with statement is as follows:\n",
        "```python\n",
        "with expression [as variable]:\n",
        "    # code to use resource here\n",
        "```\n",
        "The expression is an object that provides the `__enter__` and `__exit__` methods. The `__enter__` method is called when the block of code is entered, and it returns the resource to be used in the block. The `__exit__` method is called when the block is exited, and it is responsible for cleaning up the resource."
      ]
    },
    {
      "cell_type": "code",
      "execution_count": 3,
      "metadata": {},
      "outputs": [],
      "source": [
        "# Open the file in write mode\n",
        "with open(\"file.txt\", \"w\") as file_handler:\n",
        "    # Write to the file\n",
        "    file_handler.write(\"Hello, World!\")"
      ]
    },
    {
      "cell_type": "code",
      "execution_count": 4,
      "metadata": {
        "id": "yWma4FXH8mG-"
      },
      "outputs": [
        {
          "name": "stdout",
          "output_type": "stream",
          "text": [
            "Hello, World!\n"
          ]
        }
      ],
      "source": [
        "with open(\"file.txt\", \"r\") as file_handler: # Insert the path to the file you want to open\n",
        "    i = 0\n",
        "    for line in file_handler:\n",
        "        # Conditions were set so that the entire file would not be printed.\n",
        "        if i > 9:\n",
        "            break\n",
        "        else:\n",
        "            print(line)\n",
        "            i = i + 1"
      ]
    },
    {
      "cell_type": "code",
      "execution_count": 5,
      "metadata": {
        "id": "ebWu_5ks8mG-"
      },
      "outputs": [
        {
          "ename": "ValueError",
          "evalue": "I/O operation on closed file.",
          "output_type": "error",
          "traceback": [
            "\u001b[1;31m---------------------------------------------------------------------------\u001b[0m",
            "\u001b[1;31mValueError\u001b[0m                                Traceback (most recent call last)",
            "\u001b[1;32mc:\\Users\\2000076134\\Dev\\PythonTraining_Hexavarsity\\Python_introduction_4_fileHandling.ipynb Cell 8\u001b[0m in \u001b[0;36m<cell line: 1>\u001b[1;34m()\u001b[0m\n\u001b[1;32m----> <a href='vscode-notebook-cell:/c%3A/Users/2000076134/Dev/PythonTraining_Hexavarsity/Python_introduction_4_fileHandling.ipynb#W6sZmlsZQ%3D%3D?line=0'>1</a>\u001b[0m \u001b[39mfor\u001b[39;00m line \u001b[39min\u001b[39;00m file_handler:\n\u001b[0;32m      <a href='vscode-notebook-cell:/c%3A/Users/2000076134/Dev/PythonTraining_Hexavarsity/Python_introduction_4_fileHandling.ipynb#W6sZmlsZQ%3D%3D?line=1'>2</a>\u001b[0m     \u001b[39mprint\u001b[39m(line)\n",
            "\u001b[1;31mValueError\u001b[0m: I/O operation on closed file."
          ]
        }
      ],
      "source": [
        "for line in file_handler:\n",
        "    print(line)"
      ]
    },
    {
      "cell_type": "code",
      "execution_count": 6,
      "metadata": {},
      "outputs": [
        {
          "name": "stdout",
          "output_type": "stream",
          "text": [
            "Hello, World!\n"
          ]
        }
      ],
      "source": [
        "file_handler = open(\"file.txt\", \"r\") # Open the file\n",
        "count_lines = 0\n",
        "for line in file_handler:\n",
        "    # Conditions were set so that the entire file would not be printed.\n",
        "    if count_lines > 9:\n",
        "        break\n",
        "    else:\n",
        "        print(line)\n",
        "        count_lines += 1\n",
        "file_handler.close()"
      ]
    },
    {
      "cell_type": "code",
      "execution_count": 9,
      "metadata": {},
      "outputs": [
        {
          "ename": "ValueError",
          "evalue": "I/O operation on closed file.",
          "output_type": "error",
          "traceback": [
            "\u001b[1;31m---------------------------------------------------------------------------\u001b[0m",
            "\u001b[1;31mValueError\u001b[0m                                Traceback (most recent call last)",
            "\u001b[1;32mc:\\Users\\2000076134\\Dev\\PythonTraining_Hexavarsity\\Python_introduction_4_fileHandling.ipynb Cell 10\u001b[0m in \u001b[0;36m<cell line: 1>\u001b[1;34m()\u001b[0m\n\u001b[1;32m----> <a href='vscode-notebook-cell:/c%3A/Users/2000076134/Dev/PythonTraining_Hexavarsity/Python_introduction_4_fileHandling.ipynb#X15sZmlsZQ%3D%3D?line=0'>1</a>\u001b[0m \u001b[39mfor\u001b[39;00m line \u001b[39min\u001b[39;00m file_handler:\n\u001b[0;32m      <a href='vscode-notebook-cell:/c%3A/Users/2000076134/Dev/PythonTraining_Hexavarsity/Python_introduction_4_fileHandling.ipynb#X15sZmlsZQ%3D%3D?line=1'>2</a>\u001b[0m     \u001b[39mprint\u001b[39m(line)\n",
            "\u001b[1;31mValueError\u001b[0m: I/O operation on closed file."
          ]
        }
      ],
      "source": [
        "for line in file_handler:\n",
        "    print(line)"
      ]
    },
    {
      "cell_type": "code",
      "execution_count": 8,
      "metadata": {},
      "outputs": [],
      "source": [
        "file_handler.close()"
      ]
    },
    {
      "cell_type": "markdown",
      "metadata": {
        "id": "40NM_3L48mG_"
      },
      "source": [
        "As you can see the file was closed even though it was never made explicit that the file should be closed, if there had been an error in the middle of the code this would have protected it. The operation of the object `with` is based on the fact that the object that is receiving to initialize itself (remember that in python everything is objects) has two methods, `__enter__` that is in charge of executing the code and making a return and `__exit__` that is in charge of closing or freeing the memory independently of the result."
      ]
    },
    {
      "cell_type": "markdown",
      "metadata": {
        "id": "C4dsasLB8mHA"
      },
      "source": [
        "> Content created by **Carlos Cruz-Maldonado**.  \n",
        "> Feel free to ping me at any time."
      ]
    },
    {
      "attachments": {},
      "cell_type": "markdown",
      "metadata": {
        "id": "1QdGEhIx8mHA"
      },
      "source": [
        "# Exercise"
      ]
    },
    {
      "cell_type": "code",
      "execution_count": 13,
      "metadata": {},
      "outputs": [],
      "source": [
        "import os "
      ]
    },
    {
      "cell_type": "code",
      "execution_count": 24,
      "metadata": {},
      "outputs": [
        {
          "data": {
            "text/plain": [
              "['P220713.955']"
            ]
          },
          "execution_count": 24,
          "metadata": {},
          "output_type": "execute_result"
        }
      ],
      "source": [
        "os.listdir(r\"P\\POC5559\")"
      ]
    },
    {
      "cell_type": "code",
      "execution_count": 25,
      "metadata": {},
      "outputs": [
        {
          "data": {
            "text/plain": [
              "['P220713.955']"
            ]
          },
          "execution_count": 25,
          "metadata": {},
          "output_type": "execute_result"
        }
      ],
      "source": [
        "os.listdir(\"P/POC5559/\")"
      ]
    },
    {
      "cell_type": "code",
      "execution_count": 55,
      "metadata": {},
      "outputs": [],
      "source": [
        "with open(\"P/POC5559/P220713.955\", \"r\") as p_file:\n",
        "    p_read = p_file.read()"
      ]
    },
    {
      "cell_type": "code",
      "execution_count": 56,
      "metadata": {},
      "outputs": [
        {
          "data": {
            "text/plain": [
              "'559    2.4210902022071320220714       56249.20      100000.0000     8856385.0400           0.0000  1488756496.9600           0.0000           0.0000  1497712882.0000'"
            ]
          },
          "execution_count": 56,
          "metadata": {},
          "output_type": "execute_result"
        }
      ],
      "source": [
        "p_read"
      ]
    },
    {
      "cell_type": "code",
      "execution_count": 38,
      "metadata": {},
      "outputs": [
        {
          "data": {
            "text/plain": [
              "['559',\n",
              " '2.4210902022071320220714',\n",
              " '56249.20',\n",
              " '100000.0000',\n",
              " '8856385.0400',\n",
              " '0.0000',\n",
              " '1488756496.9600',\n",
              " '0.0000',\n",
              " '0.0000',\n",
              " '1497712882.0000']"
            ]
          },
          "execution_count": 38,
          "metadata": {},
          "output_type": "execute_result"
        }
      ],
      "source": [
        "p_read.split()"
      ]
    },
    {
      "cell_type": "code",
      "execution_count": 65,
      "metadata": {},
      "outputs": [
        {
          "name": "stdout",
          "output_type": "stream",
          "text": [
            "Date,Day_Name,Visitors,Revenue,Marketing Spend,Promo\n",
            "\n",
            "09/11/2020,Monday,707,5211,651.375,No Promo\n",
            "\n",
            "10/11/2020,Tuesday,1455,10386,1298.25,Promotion Red\n",
            "\n",
            "11/11/2020,Wednesday,1520,12475,1559.375,Promotion Blue\n",
            "\n",
            "12/11/2020,Thursday,1726,14414,1801.75,No Promo\n",
            "\n",
            "13/11/2020,Friday,2134,20916,2614.5,No Promo\n",
            "\n",
            "14/11/2020,Saturday,1316,12996,1444,Promotion Blue\n",
            "\n",
            "15/11/2020,Sunday,1287,11929,1325.444444,Promotion Blue\n",
            "\n",
            "16/11/2020,Monday,1548,10072,1119.111111,No Promo\n",
            "\n",
            "17/11/2020,Tuesday,1448,12016,1092.363636,Promotion Blue\n",
            "\n"
          ]
        }
      ],
      "source": [
        "with open(\"data\\Marketing_Raw_Data.csv\", \"r\") as marketing_data:\n",
        "    marketing_generator = (line for line in marketing_data)\n",
        "    for iteration in range(10):\n",
        "        print(next(marketing_generator))"
      ]
    },
    {
      "cell_type": "code",
      "execution_count": 18,
      "metadata": {},
      "outputs": [
        {
          "name": "stdout",
          "output_type": "stream",
          "text": [
            "['Date', 'Day_Name', 'Visitors', 'Revenue', 'Marketing Spend', 'Promo']\n",
            "['09/11/2020', 'Monday', '707', '5211', '651.375', 'No Promo']\n",
            "['10/11/2020', 'Tuesday', '1455', '10386', '1298.25', 'Promotion Red']\n",
            "['11/11/2020', 'Wednesday', '1520', '12475', '1559.375', 'Promotion Blue']\n",
            "['12/11/2020', 'Thursday', '1726', '14414', '1801.75', 'No Promo']\n",
            "['13/11/2020', 'Friday', '2134', '20916', '2614.5', 'No Promo']\n",
            "['14/11/2020', 'Saturday', '1316', '12996', '1444', 'Promotion Blue']\n",
            "['15/11/2020', 'Sunday', '1287', '11929', '1325.444444', 'Promotion Blue']\n",
            "['16/11/2020', 'Monday', '1548', '10072', '1119.111111', 'No Promo']\n",
            "['17/11/2020', 'Tuesday', '1448', '12016', '1092.363636', 'Promotion Blue']\n"
          ]
        }
      ],
      "source": [
        "with open(\"..\\..\\data\\Marketing_Raw_Data.csv\", \"r\") as marketing_data:\n",
        "    marketing_generator = (line.strip().split(\",\") for line in marketing_data)\n",
        "    for iteration in range(10):\n",
        "        print(next(marketing_generator))"
      ]
    },
    {
      "cell_type": "code",
      "execution_count": 15,
      "metadata": {},
      "outputs": [],
      "source": [
        "add_lambda = lambda var, var2: (var + 1)*var2\n",
        "\n",
        "def add(var, var2):\n",
        "    var = (var + 1)*var2\n",
        "    return var"
      ]
    },
    {
      "cell_type": "code",
      "execution_count": 16,
      "metadata": {},
      "outputs": [
        {
          "data": {
            "text/plain": [
              "(6, 6)"
            ]
          },
          "execution_count": 16,
          "metadata": {},
          "output_type": "execute_result"
        }
      ],
      "source": [
        "add(2, 2), add_lambda(2, 2)"
      ]
    },
    {
      "cell_type": "code",
      "execution_count": null,
      "metadata": {},
      "outputs": [],
      "source": [
        "# Make a function that returns the days within a particular revenue threshold has been reached.\n",
        "# Add a boolean parameter to indicate whether returning the days or the day of the week\n",
        "(\"Date\" | \"DayOfTheWeek\",\"Revenue\")\n",
        "\n",
        "# function must receive the filepath and the revenue threshold. "
      ]
    },
    {
      "cell_type": "code",
      "execution_count": 5,
      "metadata": {},
      "outputs": [],
      "source": [
        "from datetime import datetime as dt\n",
        "def create_generator(file_handler, threshold):\n",
        "    \n",
        "    row2list = lambda row: row.strip().split(\",\")\n",
        "    \n",
        "    for line in file_handler:\n",
        "        try:\n",
        "            if int(row2list(line)[3]) >= threshold:\n",
        "                yield row2list(line)\n",
        "        except ValueError as message:\n",
        "            print(\"Header found, ValueError:\", message)\n",
        "            yield row2list(line)\n",
        "        \n",
        "def get_revenue_date(file_path, revenue_threshold, dayOfTheWeek=False):\n",
        "    #row2list = lambda row: row.strip().split(\",\")\n",
        "    with open(file_path, \"r\") as marketing_data:\n",
        "        #marketing_generator = (row2list(line) for line in marketing_data if int(row2list(line)[3]) >= revenue_threshold)\n",
        "        marketing_generator = create_generator(marketing_data, revenue_threshold)\n",
        "        \n",
        "        open('Marketing_filtered_data.csv', \"w\").close()\n",
        "            \n",
        "        with open('Marketing_filtered_data.csv', 'a') as file_handler:\n",
        "            for row in marketing_generator:\n",
        "                date, day_name, visitors, revenue, marketing_spend, promo = row\n",
        "                \n",
        "                try:\n",
        "                    date = dt.strptime(date, '%d/%m/%Y')\n",
        "                    date = date.strftime(\"%d-%m-%Y\")\n",
        "                except ValueError as message:\n",
        "                    date = date\n",
        "                \n",
        "                date_string = day_name if dayOfTheWeek else date\n",
        "                #print(f\"{date_string},{revenue}\", file=file_handler)\n",
        "                print(\",\".join([date_string, revenue]), file=file_handler)\n",
        "    "
      ]
    },
    {
      "cell_type": "code",
      "execution_count": 6,
      "metadata": {},
      "outputs": [
        {
          "name": "stdout",
          "output_type": "stream",
          "text": [
            "Header found, ValueError: invalid literal for int() with base 10: 'Revenue'\n"
          ]
        }
      ],
      "source": [
        "get_revenue_date(\"..\\..\\data\\Marketing_Raw_Data.csv\", 10000, True)"
      ]
    },
    {
      "cell_type": "code",
      "execution_count": 113,
      "metadata": {},
      "outputs": [],
      "source": [
        "from datetime import datetime"
      ]
    },
    {
      "cell_type": "code",
      "execution_count": 119,
      "metadata": {},
      "outputs": [
        {
          "data": {
            "text/plain": [
              "datetime.datetime(2023, 2, 15, 12, 56, 45, 183775)"
            ]
          },
          "execution_count": 119,
          "metadata": {},
          "output_type": "execute_result"
        }
      ],
      "source": [
        "now_time = datetime.now()\n",
        "now_time"
      ]
    },
    {
      "cell_type": "code",
      "execution_count": 120,
      "metadata": {},
      "outputs": [
        {
          "data": {
            "text/plain": [
              "'15/02/2023'"
            ]
          },
          "execution_count": 120,
          "metadata": {},
          "output_type": "execute_result"
        }
      ],
      "source": [
        "now_time.strftime(\"%d/%m/%Y\")"
      ]
    },
    {
      "cell_type": "code",
      "execution_count": 125,
      "metadata": {},
      "outputs": [
        {
          "data": {
            "text/plain": [
              "3"
            ]
          },
          "execution_count": 125,
          "metadata": {},
          "output_type": "execute_result"
        }
      ],
      "source": [
        "abs(now_time.minute - datetime.now().minute)"
      ]
    },
    {
      "cell_type": "code",
      "execution_count": 1,
      "metadata": {},
      "outputs": [],
      "source": [
        "import revenue_operations as ro"
      ]
    },
    {
      "cell_type": "code",
      "execution_count": 2,
      "metadata": {},
      "outputs": [
        {
          "name": "stdout",
          "output_type": "stream",
          "text": [
            "Header found, ValueError: invalid literal for int() with base 10: 'Revenue'\n"
          ]
        }
      ],
      "source": [
        "ro.get_revenue_date(\"..\\..\\data\\Marketing_Raw_Data.csv\", 10000, False)"
      ]
    },
    {
      "cell_type": "code",
      "execution_count": null,
      "metadata": {},
      "outputs": [],
      "source": []
    }
  ],
  "metadata": {
    "colab": {
      "provenance": []
    },
    "kernelspec": {
      "display_name": "base",
      "language": "python",
      "name": "python3"
    },
    "language_info": {
      "codemirror_mode": {
        "name": "ipython",
        "version": 3
      },
      "file_extension": ".py",
      "mimetype": "text/x-python",
      "name": "python",
      "nbconvert_exporter": "python",
      "pygments_lexer": "ipython3",
      "version": "3.9.12"
    },
    "orig_nbformat": 4,
    "vscode": {
      "interpreter": {
        "hash": "3724d0f5762a99e6839fb4dbd4bdb548a98954709a09840cb011f6ea2b5eaba8"
      }
    }
  },
  "nbformat": 4,
  "nbformat_minor": 0
}
