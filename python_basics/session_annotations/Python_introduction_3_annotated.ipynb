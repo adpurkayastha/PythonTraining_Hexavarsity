{
  "cells": [
    {
      "cell_type": "markdown",
      "metadata": {
        "id": "lUCq8-lfVF96"
      },
      "source": [
        "# Functions\n",
        "\n",
        "In python it is possible to define functions and procedures (which are ultimately also objects). A function is a group of related statements that perform a specific task. Functions help break our program into smaller and modular chunks. As our program grows larger and more complex, functions make it more organized and manageable.\n",
        "\n",
        "A function is defined using the def keyword, followed by the function name and a set of parentheses that can contain arguments. The code within the function must be indented and is executed when the function is called.\n",
        "\n",
        "The basic syntax for defining a function in Python is:\n",
        "```python\n",
        "def function_name(arguments):\n",
        "    # code to be executed when the function is called\n",
        "```\n",
        "\n",
        "\n",
        "Then these functions can be grouped and converted into a library (these are code blocks with functions and objects that are called to access those functions).  \n",
        "\n",
        "Here is an example of how to create a function, it will take a number and return the succession of fibonacci in that number:"
      ]
    },
    {
      "cell_type": "code",
      "execution_count": 2,
      "metadata": {
        "id": "OsdNYb0UVF98"
      },
      "outputs": [],
      "source": [
        "def fibonacci_function(n): # how to define a function\n",
        "    '''Putting this is very important, because it is a string that acts as documentation of the function.\n",
        "    In it you can detail inputs, parameters and outputs.\n",
        "    This way people when typing the function and pressing shift+tab can read this and know how it works (try it).'''\n",
        "    if n==0:\n",
        "        return(1) # Functions always return something even if it is an empty element or a 'None'.\n",
        "    elif n==1:\n",
        "        return(1) # If it is a procedure, then something is not returned.\n",
        "    else:\n",
        "        return(fibonacci_function(n-1)+fibonacci_function(n-2))"
      ]
    },
    {
      "cell_type": "code",
      "execution_count": 11,
      "metadata": {
        "id": "XoTuuFvNVF98"
      },
      "outputs": [
        {
          "name": "stdout",
          "output_type": "stream",
          "text": [
            "1\n",
            "1\n",
            "2\n",
            "3\n",
            "5\n",
            "8\n",
            "13\n",
            "21\n",
            "34\n",
            "55\n"
          ]
        }
      ],
      "source": [
        "for i in range(10):\n",
        "    print(fibonacci_function(i))"
      ]
    },
    {
      "attachments": {},
      "cell_type": "markdown",
      "metadata": {
        "id": "XtY3RjIhVF99"
      },
      "source": [
        "Information can be passed into functions as arguments.\n",
        "\n",
        "Arguments are specified after the function name, inside the parentheses. You can add as many arguments as you want, just separate them with a comma. \n",
        "\n",
        "Parameters:\n",
        "- positional\n",
        "- by keyword\n",
        "\n",
        "Arguments are often shortened to args in Python documentations.\n",
        "The terms parameter and argument can be used for the same thing: information that are passed into a function.\n",
        "\n",
        "From a function's perspective:\n",
        "\n",
        "- A parameter is the variable listed inside the parentheses in the function definition.\n",
        "- An argument is the value that is sent to the function when it is called.\n",
        "\n",
        "If you do not know how many **arguments** will be passed into your function, add a __*__ before the parameter name in the function definition.\n",
        "This way the function will receive a tuple of arguments, and can access the items accordingly.\n",
        "\n",
        "*args\n",
        "\n",
        "If you do not know how many **keyword arguments** will be passed into your function, add two asterisk: __**__ before the parameter name in the function definition.\n",
        "This way the function will receive a dictionary of arguments, and can access the items accordingly:\n",
        "\n",
        "**kwargs"
      ]
    },
    {
      "cell_type": "code",
      "execution_count": 56,
      "metadata": {},
      "outputs": [],
      "source": [
        "def test_function(): # Just a placeholder for a function\n",
        "    pass "
      ]
    },
    {
      "cell_type": "code",
      "execution_count": 25,
      "metadata": {},
      "outputs": [],
      "source": [
        "def test_function(first, second, third='John'):\n",
        "    print(f\"Testing function parameters {first} {second} {third}\")"
      ]
    },
    {
      "cell_type": "code",
      "execution_count": 30,
      "metadata": {},
      "outputs": [
        {
          "name": "stdout",
          "output_type": "stream",
          "text": [
            "Testing function parameters Carlos Nicole Nova\n"
          ]
        }
      ],
      "source": [
        "test_function(second=\"Nicole\", first=\"Carlos\", third=\"Nova\")"
      ]
    },
    {
      "cell_type": "code",
      "execution_count": 37,
      "metadata": {},
      "outputs": [],
      "source": [
        "foo = True"
      ]
    },
    {
      "cell_type": "code",
      "execution_count": 45,
      "metadata": {},
      "outputs": [],
      "source": [
        "def test_function(*multiple_parameters):\n",
        "    print(*multiple_parameters, sep='\\t')\n",
        "    print(multiple_parameters, sep='\\t')\n",
        "    #for parameter in multiple_parameters:\n",
        "    #    print(parameter)\n",
        "    "
      ]
    },
    {
      "cell_type": "code",
      "execution_count": 46,
      "metadata": {},
      "outputs": [
        {
          "name": "stdout",
          "output_type": "stream",
          "text": [
            "Carlos\t2\tJohn\t<class 'bool'>\n",
            "('Carlos', 2, 'John', <class 'bool'>)\n"
          ]
        }
      ],
      "source": [
        "test_function(\"Carlos\", 2, \"John\", type(foo))"
      ]
    },
    {
      "cell_type": "code",
      "execution_count": 54,
      "metadata": {},
      "outputs": [],
      "source": [
        "def test_function(**multiple_parameters):\n",
        "    print(*multiple_parameters, sep='\\t')\n",
        "    print(multiple_parameters, sep='\\t')\n",
        "    #for parameter in multiple_parameters:\n",
        "    #    print(parameter)\n",
        "    \n",
        "    print(multiple_parameters['name'] * multiple_parameters['number'])\n",
        "    "
      ]
    },
    {
      "cell_type": "code",
      "execution_count": 55,
      "metadata": {},
      "outputs": [
        {
          "name": "stdout",
          "output_type": "stream",
          "text": [
            "name\tnumber\tother_name\tsome_type\n",
            "{'name': 'Carlos', 'number': 4, 'other_name': 'John', 'some_type': <class 'bool'>}\n",
            "CarlosCarlosCarlosCarlos\n"
          ]
        }
      ],
      "source": [
        "test_function(name=\"Carlos\", number=4, other_name=\"John\", some_type=type(foo))"
      ]
    },
    {
      "cell_type": "code",
      "execution_count": null,
      "metadata": {
        "id": "HDlE4EIZVF99"
      },
      "outputs": [],
      "source": [
        "# Try the different ways to pass arguments to a function"
      ]
    },
    {
      "cell_type": "markdown",
      "metadata": {
        "id": "4-NRoENnVF99"
      },
      "source": [
        "Also, you can `return` values, which are values returned by the function to the caller."
      ]
    },
    {
      "cell_type": "code",
      "execution_count": 60,
      "metadata": {},
      "outputs": [],
      "source": [
        "def sum_function(a, b):\n",
        "    \"\"\"Just a function that returns an add operation.\n",
        "        returns: a + b \n",
        "    \"\"\" \n",
        "    return a + b\n",
        "\n",
        "# Look for python PEP"
      ]
    },
    {
      "cell_type": "code",
      "execution_count": 61,
      "metadata": {},
      "outputs": [
        {
          "name": "stdout",
          "output_type": "stream",
          "text": [
            "Help on function sum_function in module __main__:\n",
            "\n",
            "sum_function(a, b)\n",
            "    Just a function that returns an add operation.\n",
            "    returns: a + b\n",
            "\n"
          ]
        }
      ],
      "source": [
        "help(sum_function)"
      ]
    },
    {
      "cell_type": "code",
      "execution_count": 63,
      "metadata": {},
      "outputs": [],
      "source": [
        "sum_result = sum_function(10, 5)"
      ]
    },
    {
      "cell_type": "code",
      "execution_count": 64,
      "metadata": {},
      "outputs": [
        {
          "data": {
            "text/plain": [
              "15"
            ]
          },
          "execution_count": 64,
          "metadata": {},
          "output_type": "execute_result"
        }
      ],
      "source": [
        "sum_result"
      ]
    },
    {
      "cell_type": "code",
      "execution_count": 69,
      "metadata": {},
      "outputs": [
        {
          "name": "stdout",
          "output_type": "stream",
          "text": [
            "Carlos\n"
          ]
        },
        {
          "ename": "NameError",
          "evalue": "name 'local' is not defined",
          "output_type": "error",
          "traceback": [
            "\u001b[1;31m---------------------------------------------------------------------------\u001b[0m",
            "\u001b[1;31mNameError\u001b[0m                                 Traceback (most recent call last)",
            "\u001b[1;32mc:\\Users\\2000076134\\Dev\\PythonTraining_Hexavarsity\\Python_introduction_3.ipynb Cell 19\u001b[0m in \u001b[0;36m<cell line: 7>\u001b[1;34m()\u001b[0m\n\u001b[0;32m      <a href='vscode-notebook-cell:/c%3A/Users/2000076134/Dev/PythonTraining_Hexavarsity/Python_introduction_3.ipynb#X30sZmlsZQ%3D%3D?line=2'>3</a>\u001b[0m     \u001b[39mprint\u001b[39m(local)\n\u001b[0;32m      <a href='vscode-notebook-cell:/c%3A/Users/2000076134/Dev/PythonTraining_Hexavarsity/Python_introduction_3.ipynb#X30sZmlsZQ%3D%3D?line=4'>5</a>\u001b[0m some_function(\u001b[39m'\u001b[39m\u001b[39mCarlos\u001b[39m\u001b[39m'\u001b[39m)\n\u001b[1;32m----> <a href='vscode-notebook-cell:/c%3A/Users/2000076134/Dev/PythonTraining_Hexavarsity/Python_introduction_3.ipynb#X30sZmlsZQ%3D%3D?line=6'>7</a>\u001b[0m \u001b[39mprint\u001b[39m(local)\n",
            "\u001b[1;31mNameError\u001b[0m: name 'local' is not defined"
          ]
        }
      ],
      "source": [
        "def some_function(first):\n",
        "    local = first # local scope (defined within a function)\n",
        "    print(local)\n",
        "    \n",
        "some_function('Carlos')\n",
        "\n",
        "print(local)"
      ]
    },
    {
      "cell_type": "code",
      "execution_count": 71,
      "metadata": {},
      "outputs": [
        {
          "name": "stdout",
          "output_type": "stream",
          "text": [
            "Carlos Carlos\n",
            "Carlos\n"
          ]
        }
      ],
      "source": [
        "local = \"Carlos\" # global scope (defined outside a function)\n",
        "def some_function(first):\n",
        "    #local = first\n",
        "    \n",
        "    print(local, first)\n",
        "    \n",
        "some_function('Carlos')\n",
        "\n",
        "print(local)"
      ]
    },
    {
      "cell_type": "code",
      "execution_count": 78,
      "metadata": {},
      "outputs": [
        {
          "name": "stdout",
          "output_type": "stream",
          "text": [
            "I'm local Carlos\n",
            "I'm global\n"
          ]
        }
      ],
      "source": [
        "local = \"I'm global\" # global scope (defined outside a function)\n",
        "def some_function(first):\n",
        "    \n",
        "    local = \"I'm local\" # local scope (defined within a function)\n",
        "    print(local, first)\n",
        "    \n",
        "some_function('Carlos')\n",
        "\n",
        "print(local)"
      ]
    },
    {
      "cell_type": "code",
      "execution_count": 75,
      "metadata": {},
      "outputs": [
        {
          "name": "stdout",
          "output_type": "stream",
          "text": [
            "[1, 2, 3, 4, 5]\n",
            "[5, 4, 3, 2, 1]\n",
            "[5, 4, 3, 2, 1]\n"
          ]
        }
      ],
      "source": [
        "def some_function(first):\n",
        "    first.sort(reverse=True)\n",
        "    print(first)\n",
        "\n",
        "global_var = [1,2,3,4,5] # global scope (defined outside a function)\n",
        "print(global_var)\n",
        "\n",
        "some_function(global_var)\n",
        "\n",
        "print(global_var)"
      ]
    },
    {
      "cell_type": "markdown",
      "metadata": {
        "id": "UBRYUCPcVF99"
      },
      "source": [
        "Keep in mind that in python all variables are passed by reference, and if they are modified in a function they can be modified globally unless they are immutable objects. So you must be careful and generate copies of the elements if you don't want to modify them *in place*. \n",
        "\n",
        "Once a function works well, and in case it can be used by many people you can build a library with it. Building a library is easy, because it is a text document with extension **.py** which is then converted by a command, to a python module with extension **'.pyc'**."
      ]
    },
    {
      "cell_type": "markdown",
      "metadata": {
        "id": "7OKxJD64VF9-"
      },
      "source": [
        "> Content created by **Carlos Cruz-Maldonado**.  \n",
        "> Feel free to ping me at any time."
      ]
    }
  ],
  "metadata": {
    "colab": {
      "provenance": []
    },
    "kernelspec": {
      "display_name": "base",
      "language": "python",
      "name": "python3"
    },
    "language_info": {
      "codemirror_mode": {
        "name": "ipython",
        "version": 3
      },
      "file_extension": ".py",
      "mimetype": "text/x-python",
      "name": "python",
      "nbconvert_exporter": "python",
      "pygments_lexer": "ipython3",
      "version": "3.9.12"
    },
    "orig_nbformat": 4,
    "vscode": {
      "interpreter": {
        "hash": "3724d0f5762a99e6839fb4dbd4bdb548a98954709a09840cb011f6ea2b5eaba8"
      }
    }
  },
  "nbformat": 4,
  "nbformat_minor": 0
}
