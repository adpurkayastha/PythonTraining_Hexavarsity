{
  "cells": [
    {
      "cell_type": "markdown",
      "metadata": {
        "id": "27Aios8aRlgs"
      },
      "source": [
        "# Control Structures"
      ]
    },
    {
      "cell_type": "markdown",
      "metadata": {
        "id": "XGgiu8ZCRlgy"
      },
      "source": [
        "## Conditional Statements\n",
        "\n",
        "So far, we know how to define variables, so we can create slightly more advanced code blocks. The first thing we want to do is create a new variable called `under_age` and we will need to define it using a contitional statement. To do this, it will be useful to remember the comparison operators (`<, >, <=, >=, ==, !=`).\n",
        "\n",
        "The idea is as follows, if the person is a minor, the value of this variable will be ``True`` and will be ``False`` in the other case.\n",
        "\n",
        "Conditional statements (if-else): This allows a program to execute certain code blocks only if a certain condition is met. The basic syntax for an if-else statement is:\n",
        "\n",
        "````python\n",
        "if condition: # execute code block if condition is True\n",
        "    # Block of code for a satisfied condition. \n",
        "    \n",
        "else: # execute code block if condition is False\n",
        "    # Block of code for a non-satisfied condition. \n",
        "```\n",
        "\n",
        "#### Example:"
      ]
    },
    {
      "cell_type": "code",
      "execution_count": 3,
      "metadata": {
        "id": "BfPOYICrRlgz"
      },
      "outputs": [
        {
          "name": "stdout",
          "output_type": "stream",
          "text": [
            "Nope, it is not a black dog.\n"
          ]
        }
      ],
      "source": [
        "dog_color = \"white\"\n",
        "if dog_color == \"black\":\n",
        "    print(\"Indeed, this dog is black.\")\n",
        "else:\n",
        "    print(\"Nope, it is not a black dog.\")"
      ]
    },
    {
      "cell_type": "markdown",
      "metadata": {
        "id": "ObL7qhcfRlg0"
      },
      "source": [
        "In the case of having more than one condition, we can use `elif` statements:\n",
        "\n",
        "````python\n",
        "if condition_one:\n",
        "    # Block of code for a satisfied condition one\n",
        "elif condition_two:\n",
        "    # Block of code for a satisfied condition two\n",
        "...\n",
        "elif condition_nth:\n",
        "    # Block of code for a satisfied condition nth.\n",
        "else:\n",
        "    # Block of code for non-satisfied conditions.\n",
        "```\n",
        "\n",
        "#### Exercise:\n",
        "\n",
        "Now create a condition to define a new variable called `under_age` that will compare whether the age is greater than or equal to 18 to set it to ``False`` or ``True`` in the other case."
      ]
    },
    {
      "cell_type": "code",
      "execution_count": 6,
      "metadata": {
        "id": "aAanXjscRlg0"
      },
      "outputs": [
        {
          "name": "stdout",
          "output_type": "stream",
          "text": [
            "not under age\n"
          ]
        }
      ],
      "source": [
        "# TODO.\n",
        "# Write a conditional to set the age.\n",
        "age = 21\n",
        "if age >= 18:\n",
        "    print(\"not under age\")\n",
        "else:\n",
        "    print(\"under age\")"
      ]
    },
    {
      "cell_type": "markdown",
      "metadata": {
        "id": "0PO3C8WfRlg1"
      },
      "source": [
        "## Loops\n",
        "\n",
        "Iteration means executing the same block of code over and over again. A programming structure that implements iteration is called a loop (or cycle).\n",
        "Loops allow a program to repeat a set of instructions multiple times. \n",
        "\n",
        "There are two types of iteration:\n",
        "\n",
        "* **Defined iteration**, in which the number of iterations is explicitly specified in advance.\n",
        "* **Undefined iteration**, in which the code block is executed until some condition is met.\n",
        "\n",
        "The two main types of loops in Python are `for` loops and `while` loops. Indefinite iteration is performed with a `while` loop and definite iteration is performed with a `for` loop.\n",
        "\n",
        "### For Loop\n",
        "\n",
        "The `for` we have in Python is a special `for` that only acts on iterable objects, that is to say that it does not add to a variable but it goes through a vector element by element.\n",
        "\n",
        "````python\n",
        "for element in sequence:\n",
        "    # execute code block for each element in the sequence\n",
        "````"
      ]
    },
    {
      "cell_type": "markdown",
      "metadata": {
        "id": "D_HHuUmmRlg1"
      },
      "source": [
        "We can iterate through a range of numbers:"
      ]
    },
    {
      "cell_type": "code",
      "execution_count": 13,
      "metadata": {
        "id": "F9xpJRkVRlg2"
      },
      "outputs": [
        {
          "data": {
            "text/plain": [
              "[1, 3, 5, 7, 9, 11, 13, 15, 17, 19]"
            ]
          },
          "execution_count": 13,
          "metadata": {},
          "output_type": "execute_result"
        }
      ],
      "source": [
        "# We create an iterable with the function range\n",
        "# range(start, stop, steps)\n",
        "counting = range(1,20,2)\n",
        "list(counting)"
      ]
    },
    {
      "cell_type": "code",
      "execution_count": 14,
      "metadata": {
        "id": "0lyFBppBRlg2"
      },
      "outputs": [
        {
          "name": "stdout",
          "output_type": "stream",
          "text": [
            "The current number in iteration is 1\n",
            "The current number in iteration is 3\n",
            "The current number in iteration is 5\n",
            "The current number in iteration is 7\n",
            "The current number in iteration is 9\n",
            "The current number in iteration is 11\n",
            "The current number in iteration is 13\n",
            "The current number in iteration is 15\n",
            "The current number in iteration is 17\n",
            "The current number in iteration is 19\n",
            "done\n"
          ]
        }
      ],
      "source": [
        "for number in counting:\n",
        "    print(f\"The current number in iteration is {number}\")\n",
        "    # 2nd line\n",
        "    # 3rd line\n",
        "print('done')"
      ]
    },
    {
      "cell_type": "markdown",
      "metadata": {
        "id": "6gihDQIrRlg3"
      },
      "source": [
        "We can iterate through the elements of a list:"
      ]
    },
    {
      "cell_type": "code",
      "execution_count": 19,
      "metadata": {
        "id": "nY9HscFzRlg3"
      },
      "outputs": [
        {
          "name": "stdout",
          "output_type": "stream",
          "text": [
            "The current month is {month}.\n",
            "The current month is {month}.\n",
            "The current month is {month}.\n",
            "The current month is {month}.\n",
            "The current month is {month}.\n",
            "The current month is {month}.\n",
            "The current month is {month}.\n",
            "The current month is {month}.\n",
            "The current month is {month}.\n",
            "The current month is {month}.\n",
            "The current month is {month}.\n",
            "The current month is {month}.\n"
          ]
        }
      ],
      "source": [
        "months = [\n",
        "    'January',\n",
        "    'February',\n",
        "    'March',\n",
        "    'April',\n",
        "    'May',\n",
        "    'June',\n",
        "    'July',\n",
        "    'August',\n",
        "    'September',\n",
        "    'October',\n",
        "    'November',\n",
        "    'December',\n",
        "]\n",
        "\n",
        "for month in months:\n",
        "    print(f\"The current month is {month}.\")"
      ]
    },
    {
      "cell_type": "markdown",
      "metadata": {
        "id": "y4SKpXlxRlg3"
      },
      "source": [
        "That is the basic syntax of a `for`, note that the identation is what tells you which lines of code are part of the `for` iteration.  \n",
        "\n",
        "### While Loop\n",
        "\n",
        "On the other hand the syntax of the `while` loop is similar to that of the `for`, followed by a colon and the block identified in a correct way. \n",
        "\n",
        "`While` loops are used to repeatedly execute a code block as long as a certain condition is met. For a `while` cycle it is important to establish a **stop condition**.  \n",
        "The basic syntax for a while loop is:\n",
        "\n",
        "```python\n",
        "while condition:\n",
        "    # execute code block while condition is True\n",
        "```\n",
        "\n",
        "In this example we use the final value of the variable **i** that was going through the count vector."
      ]
    },
    {
      "cell_type": "code",
      "execution_count": 22,
      "metadata": {
        "id": "bDqg3XmuRlg4"
      },
      "outputs": [
        {
          "name": "stdout",
          "output_type": "stream",
          "text": [
            "0 True\n",
            "2 True\n",
            "4 True\n",
            "6 True\n",
            "8 True\n",
            "done 10\n"
          ]
        }
      ],
      "source": [
        "x = 0\n",
        "while x < 10:\n",
        "    print(x, x < 10)\n",
        "    x = x + 2\n",
        "print('done', x)"
      ]
    },
    {
      "cell_type": "markdown",
      "metadata": {
        "id": "WtRumlQfRlg4"
      },
      "source": [
        "The if has a syntax similar to that of the while, however, it is not necessary to write the condition in brackets, the operators **or** and **and** are written as they are:"
      ]
    },
    {
      "cell_type": "code",
      "execution_count": 23,
      "metadata": {
        "id": "BOfAtdoERlg4"
      },
      "outputs": [
        {
          "name": "stdout",
          "output_type": "stream",
          "text": [
            "Yes\n"
          ]
        }
      ],
      "source": [
        "a,b = 2,3 # You can modify these numbers to see how the result changes\n",
        "if a>b or b<5:\n",
        "    print(\"Yes\")\n",
        "elif a==b:\n",
        "    print(\"Equal\")\n",
        "else:\n",
        "    print(\"No\")"
      ]
    },
    {
      "cell_type": "code",
      "execution_count": 27,
      "metadata": {},
      "outputs": [
        {
          "name": "stdout",
          "output_type": "stream",
          "text": [
            "The current month is January.\n",
            "The current month is February.\n",
            "The current month is March.\n",
            "The current month is April.\n",
            "The current month is June.\n",
            "The current month is July.\n",
            "The current month is August.\n",
            "The current month is September.\n",
            "The current month is October.\n",
            "The current month is November.\n",
            "The current month is December.\n"
          ]
        }
      ],
      "source": [
        "months = [\n",
        "    'January',\n",
        "    'February',\n",
        "    'March',\n",
        "    'April',\n",
        "    'May',\n",
        "    'June',\n",
        "    'July',\n",
        "    'August',\n",
        "    'September',\n",
        "    'October',\n",
        "    'November',\n",
        "    'December',\n",
        "]\n",
        "\n",
        "for month in months:\n",
        "    if month == 'May':\n",
        "        continue\n",
        "    print(f\"The current month is {month}.\")"
      ]
    },
    {
      "cell_type": "code",
      "execution_count": 28,
      "metadata": {},
      "outputs": [
        {
          "data": {
            "text/plain": [
              "['January',\n",
              " 'February',\n",
              " 'March',\n",
              " 'April',\n",
              " 'May',\n",
              " 'June',\n",
              " 'July',\n",
              " 'August',\n",
              " 'September',\n",
              " 'October',\n",
              " 'November',\n",
              " 'December']"
            ]
          },
          "execution_count": 28,
          "metadata": {},
          "output_type": "execute_result"
        }
      ],
      "source": [
        "months"
      ]
    },
    {
      "cell_type": "code",
      "execution_count": 29,
      "metadata": {},
      "outputs": [
        {
          "name": "stdout",
          "output_type": "stream",
          "text": [
            "The current month is January.\n",
            "The current month is February.\n",
            "The current month is March.\n",
            "The current month is April.\n",
            "Reached May, now exiting the loop\n",
            "End of the loop.\n"
          ]
        }
      ],
      "source": [
        "for month in months:\n",
        "    if month == 'May':\n",
        "        print(\"Reached May, now exiting the loop\")\n",
        "        break\n",
        "    print(f\"The current month is {month}.\")\n",
        "print(\"End of the loop.\")"
      ]
    },
    {
      "attachments": {},
      "cell_type": "markdown",
      "metadata": {},
      "source": [
        "Control Structures:  \n",
        "    a. Use if-else statements to check if a number is even or odd    \n",
        "    b. Use for loops to iterate through a list and print its elements  \n",
        "    c. Use while loops to print the first 10 numbers in the Fibonacci sequence  \n",
        "    d. Nest control structures inside each other to solve a problem (e.g. find the largest number in a list)  "
      ]
    },
    {
      "cell_type": "code",
      "execution_count": 35,
      "metadata": {},
      "outputs": [
        {
          "data": {
            "text/plain": [
              "True"
            ]
          },
          "execution_count": 35,
          "metadata": {},
          "output_type": "execute_result"
        }
      ],
      "source": [
        "6 % 2 == 0"
      ]
    },
    {
      "cell_type": "code",
      "execution_count": 38,
      "metadata": {},
      "outputs": [
        {
          "name": "stdout",
          "output_type": "stream",
          "text": [
            "1\todd\n",
            "2\teven\n",
            "3\todd\n",
            "4\teven\n",
            "5\todd\n",
            "6\teven\n",
            "7\todd\n",
            "8\teven\n",
            "9\todd\n",
            "10\teven\n",
            "11\todd\n",
            "12\teven\n",
            "13\todd\n",
            "14\teven\n",
            "15\todd\n",
            "16\teven\n",
            "17\todd\n",
            "18\teven\n",
            "19\todd\n"
          ]
        }
      ],
      "source": [
        "for number in range(1, 20):\n",
        "    if number % 2 == 0:\n",
        "        print(number, \"even\", sep='\\t')\n",
        "    else:\n",
        "        print(number, \"odd\", sep='\\t')"
      ]
    },
    {
      "cell_type": "markdown",
      "metadata": {
        "id": "NcKGFzeTRlg4"
      },
      "source": [
        "> Content created by **Carlos Cruz-Maldonado**.  \n",
        "> Feel free to ping me at any time."
      ]
    }
  ],
  "metadata": {
    "colab": {
      "provenance": []
    },
    "kernelspec": {
      "display_name": "base",
      "language": "python",
      "name": "python3"
    },
    "language_info": {
      "codemirror_mode": {
        "name": "ipython",
        "version": 3
      },
      "file_extension": ".py",
      "mimetype": "text/x-python",
      "name": "python",
      "nbconvert_exporter": "python",
      "pygments_lexer": "ipython3",
      "version": "3.9.12"
    },
    "orig_nbformat": 4,
    "vscode": {
      "interpreter": {
        "hash": "3724d0f5762a99e6839fb4dbd4bdb548a98954709a09840cb011f6ea2b5eaba8"
      }
    }
  },
  "nbformat": 4,
  "nbformat_minor": 0
}
