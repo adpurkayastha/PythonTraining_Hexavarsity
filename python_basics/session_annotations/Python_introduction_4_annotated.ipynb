{
  "cells": [
    {
      "cell_type": "markdown",
      "metadata": {
        "id": "x_L9MJu_xLok"
      },
      "source": [
        "# List Comprehension"
      ]
    },
    {
      "cell_type": "markdown",
      "metadata": {
        "id": "0bsVio0TxLom"
      },
      "source": [
        "Python Comprehensions are expressions to create new **lists**, **dictionaries**, **sets** and **generators** based on the values of existing iterables. They are an elegant way to make your code much more concise and readable in a single line of code.\n",
        "\n",
        "A Python Comprehension consists of an expression followed by a `for` clause, and optionally one or more `if` clauses. The expression is evaluated for each item in the list specified in the `for` clause, and the result is a new list containing the results of each evaluation.\n",
        "\n",
        "Here's the basic syntax:\n",
        "\n",
        "```python\n",
        " newlist = [expression for item in iterable if condition] \n",
        "```\n",
        "The return value is a new list, leaving the old list unchanged, remember the condition is optional and can act like a filter.\n",
        "\n",
        "Here's an example of a list comprehension that squares the numbers in a list:"
      ]
    },
    {
      "cell_type": "code",
      "execution_count": null,
      "metadata": {
        "id": "zDOgCowWxLon"
      },
      "outputs": [],
      "source": [
        "numbers = [1, 2, 3, 4, 5]\n",
        "squared_numbers = [x**2 for x in numbers]\n",
        "print(squared_numbers)"
      ]
    },
    {
      "cell_type": "code",
      "execution_count": 97,
      "metadata": {},
      "outputs": [],
      "source": [
        "months = [\n",
        "    'January',\n",
        "    'February',\n",
        "    'March',\n",
        "    'April',\n",
        "    'May',\n",
        "    'June',\n",
        "    'July',\n",
        "    'August',\n",
        "    'September',\n",
        "    'October',\n",
        "    'November',\n",
        "    'December',\n",
        "]"
      ]
    },
    {
      "cell_type": "code",
      "execution_count": 94,
      "metadata": {},
      "outputs": [
        {
          "data": {
            "text/plain": [
              "[(0, 'January'),\n",
              " (1, 'February'),\n",
              " (2, 'March'),\n",
              " (3, 'April'),\n",
              " (4, 'May'),\n",
              " (5, 'June'),\n",
              " (6, 'July'),\n",
              " (7, 'August'),\n",
              " (8, 'September'),\n",
              " (9, 'October'),\n",
              " (10, 'November'),\n",
              " (11, 'December')]"
            ]
          },
          "execution_count": 94,
          "metadata": {},
          "output_type": "execute_result"
        }
      ],
      "source": [
        "list(enumerate(months))"
      ]
    },
    {
      "cell_type": "code",
      "execution_count": 92,
      "metadata": {},
      "outputs": [
        {
          "name": "stdout",
          "output_type": "stream",
          "text": [
            "1 January\n",
            "2 February\n",
            "3 March\n",
            "4 April\n",
            "5 May\n",
            "6 June\n",
            "7 July\n",
            "8 August\n",
            "9 September\n",
            "10 October\n",
            "11 November\n",
            "12 December\n"
          ]
        }
      ],
      "source": [
        "count = 0\n",
        "for month in months:\n",
        "    print(count + 1, month)\n",
        "    count += 1"
      ]
    },
    {
      "cell_type": "code",
      "execution_count": 101,
      "metadata": {},
      "outputs": [],
      "source": [
        "months_number = {}\n",
        "for number, month in enumerate(months):\n",
        "    months_number[str(number + 1)] = month\n"
      ]
    },
    {
      "cell_type": "code",
      "execution_count": 103,
      "metadata": {},
      "outputs": [],
      "source": [
        "months_number_comp = {str(number + 1):month for number, month in enumerate(months)}"
      ]
    },
    {
      "cell_type": "code",
      "execution_count": 106,
      "metadata": {},
      "outputs": [
        {
          "data": {
            "text/plain": [
              "True"
            ]
          },
          "execution_count": 106,
          "metadata": {},
          "output_type": "execute_result"
        }
      ],
      "source": [
        "months_number_comp == months_number"
      ]
    },
    {
      "cell_type": "code",
      "execution_count": null,
      "metadata": {},
      "outputs": [],
      "source": [
        "# Gustavo's code\n",
        "numbers = list(range(1,20))\n",
        "doe = {str(number):'even' for number in numbers if number % 2 == 0 }\n",
        "print(doe)"
      ]
    },
    {
      "cell_type": "code",
      "execution_count": 108,
      "metadata": {},
      "outputs": [
        {
          "data": {
            "text/plain": [
              "[2, 4, 6, 8, 10, 12, 14, 16, 18]"
            ]
          },
          "execution_count": 108,
          "metadata": {},
          "output_type": "execute_result"
        }
      ],
      "source": [
        "# Make a list with even numbers\n",
        "[number for number in range(1, 20) if number % 2 == 0]"
      ]
    },
    {
      "cell_type": "code",
      "execution_count": null,
      "metadata": {},
      "outputs": [],
      "source": [
        "# Ternary operator\n",
        "option_1 if expression else option_2"
      ]
    },
    {
      "cell_type": "code",
      "execution_count": 110,
      "metadata": {},
      "outputs": [
        {
          "data": {
            "text/plain": [
              "[('1', 'odd'),\n",
              " ('2', 'even'),\n",
              " ('3', 'odd'),\n",
              " ('4', 'even'),\n",
              " ('5', 'odd'),\n",
              " ('6', 'even'),\n",
              " ('7', 'odd'),\n",
              " ('8', 'even'),\n",
              " ('9', 'odd'),\n",
              " ('10', 'even'),\n",
              " ('11', 'odd'),\n",
              " ('12', 'even'),\n",
              " ('13', 'odd'),\n",
              " ('14', 'even'),\n",
              " ('15', 'odd'),\n",
              " ('16', 'even'),\n",
              " ('17', 'odd'),\n",
              " ('18', 'even'),\n",
              " ('19', 'odd')]"
            ]
          },
          "execution_count": 110,
          "metadata": {},
          "output_type": "execute_result"
        }
      ],
      "source": [
        "[(str(number), 'even' if number % 2 == 0 else 'odd') for number in range(1, 20)]"
      ]
    },
    {
      "cell_type": "code",
      "execution_count": 113,
      "metadata": {},
      "outputs": [
        {
          "data": {
            "text/plain": [
              "{'1': 'odd',\n",
              " '2': 'even',\n",
              " '3': 'odd',\n",
              " '4': 'even',\n",
              " '5': 'odd',\n",
              " '6': 'even',\n",
              " '7': 'odd',\n",
              " '8': 'even',\n",
              " '9': 'odd',\n",
              " '10': 'even',\n",
              " '11': 'odd',\n",
              " '12': 'even',\n",
              " '13': 'odd',\n",
              " '14': 'even',\n",
              " '15': 'odd',\n",
              " '16': 'even',\n",
              " '17': 'odd',\n",
              " '18': 'even',\n",
              " '19': 'odd'}"
            ]
          },
          "execution_count": 113,
          "metadata": {},
          "output_type": "execute_result"
        }
      ],
      "source": [
        "{str(number): 'even' if number % 2 == 0 else 'odd' for number in range(1, 20)}"
      ]
    },
    {
      "cell_type": "code",
      "execution_count": 114,
      "metadata": {},
      "outputs": [
        {
          "data": {
            "text/plain": [
              "[(1, 'odd'),\n",
              " (2, 'even'),\n",
              " (3, 'odd'),\n",
              " (4, 'even'),\n",
              " (5, 'odd'),\n",
              " (6, 'even'),\n",
              " (7, 'odd'),\n",
              " (8, 'even'),\n",
              " (9, 'odd'),\n",
              " (10, 'even'),\n",
              " (11, 'odd'),\n",
              " (12, 'even'),\n",
              " (13, 'odd'),\n",
              " (14, 'even'),\n",
              " (15, 'odd'),\n",
              " (16, 'even'),\n",
              " (17, 'odd'),\n",
              " (18, 'even'),\n",
              " (19, 'odd')]"
            ]
          },
          "execution_count": 114,
          "metadata": {},
          "output_type": "execute_result"
        }
      ],
      "source": [
        "# Luis code\n",
        "[(x,\"even\") if x%2 == 0 else (x,\"odd\") for x in range(1,20)]"
      ]
    },
    {
      "cell_type": "code",
      "execution_count": 8,
      "metadata": {},
      "outputs": [
        {
          "data": {
            "text/plain": [
              "list"
            ]
          },
          "execution_count": 8,
          "metadata": {},
          "output_type": "execute_result"
        }
      ],
      "source": [
        "type([])"
      ]
    },
    {
      "cell_type": "markdown",
      "metadata": {
        "id": "A4Lgyvg5xLoo"
      },
      "source": [
        "# Optimizing in python\n",
        "\n",
        "Optimizing in Python depends specifically on the problem you want to solve, and on the features and bottlenecks of the program."
      ]
    },
    {
      "cell_type": "markdown",
      "metadata": {
        "id": "e_tIMaZAxLoo"
      },
      "source": [
        "## Generators"
      ]
    },
    {
      "attachments": {},
      "cell_type": "markdown",
      "metadata": {
        "id": "Quo49m_kxLoo"
      },
      "source": [
        "Generator functions are a special kind of function that return a lazy iterator. These are objects that you can loop over like a list. However, unlike lists, lazy iterators do not store their contents in memory. Can be used to generate a sequence of values. Unlike a normal function, which runs to completion and returns a single value, a generator function returns an object that can be used to iterate over a sequence of values. The values are generated one at a time, as they are needed, making generators an efficient way to handle large sequences of data.\n",
        "\n",
        "A generator function is defined like a normal function, but instead of using the `return` statement, the generator function uses the `yield` statement to return each value in the sequence. The `yield` statement is used to specify the value to be returned for each iteration of the generator.\n",
        "\n",
        "Here's an example of a generator function that generates the Fibonacci sequence:"
      ]
    },
    {
      "cell_type": "code",
      "execution_count": 115,
      "metadata": {
        "id": "q9lFW6WWxLop"
      },
      "outputs": [
        {
          "name": "stdout",
          "output_type": "stream",
          "text": [
            "0\n",
            "1\n",
            "1\n",
            "2\n",
            "3\n",
            "5\n",
            "8\n",
            "13\n",
            "21\n",
            "34\n"
          ]
        }
      ],
      "source": [
        "def fibonacci_generator():\n",
        "    a, b = 0, 1\n",
        "    while True:\n",
        "        yield a\n",
        "        a, b = b, a + b\n",
        "\n",
        "# Use the generator to print the first 10 numbers in the Fibonacci sequence\n",
        "fib = fibonacci_generator()\n",
        "for i in range(10):\n",
        "    print(next(fib))"
      ]
    },
    {
      "cell_type": "code",
      "execution_count": 129,
      "metadata": {},
      "outputs": [
        {
          "data": {
            "text/plain": [
              "55"
            ]
          },
          "execution_count": 129,
          "metadata": {},
          "output_type": "execute_result"
        }
      ],
      "source": [
        "next(fib)"
      ]
    },
    {
      "cell_type": "code",
      "execution_count": 116,
      "metadata": {},
      "outputs": [],
      "source": [
        "fib = fibonacci_generator()\n"
      ]
    },
    {
      "cell_type": "code",
      "execution_count": 127,
      "metadata": {},
      "outputs": [
        {
          "data": {
            "text/plain": [
              "21"
            ]
          },
          "execution_count": 127,
          "metadata": {},
          "output_type": "execute_result"
        }
      ],
      "source": [
        "next(fib)"
      ]
    },
    {
      "cell_type": "code",
      "execution_count": 125,
      "metadata": {},
      "outputs": [],
      "source": [
        "def some_function():\n",
        "    print(next(fib))"
      ]
    },
    {
      "cell_type": "code",
      "execution_count": 128,
      "metadata": {},
      "outputs": [
        {
          "name": "stdout",
          "output_type": "stream",
          "text": [
            "34\n"
          ]
        }
      ],
      "source": [
        "some_function()"
      ]
    },
    {
      "cell_type": "markdown",
      "metadata": {
        "id": "JsEL6rX1xLoq"
      },
      "source": [
        "This is a more succinct way to create the list fibonacci_function. \n",
        "Just remember this key difference:\n",
        "\n",
        "* Using yield will result in a generator object, the program will suspend function execution (saving its state) and return the yielded value to the caller.\n",
        "*  Using return will result in stopping the function execution completely.\n",
        "\n",
        "With generators you can resume function execution using generator's methods (e.g. `next()`)\n"
      ]
    },
    {
      "attachments": {},
      "cell_type": "markdown",
      "metadata": {
        "id": "i6i4XnVMxLoq"
      },
      "source": [
        "You can also define a generator expression (also called a generator comprehension), which has a very similar syntax to list comprehensions. In this way, you can use the generator without calling a function:\n",
        "```python\n",
        "csv_gen = (row for row in open(file_name))\n",
        "```\n",
        "\n",
        "Notice that when using a generator comprehension a yield keyword is not needed. In this example row is the value that is going to be yielded at each step of the iteration."
      ]
    },
    {
      "cell_type": "markdown",
      "metadata": {
        "id": "GgXPWJdixLor"
      },
      "source": [
        "Exercise:\n",
        "\n",
        "    * Write a generator that generates the first n even numbers (where n is a positive integer passed as an argument to the generator).\n",
        "    * Modify the above generator to also generate the first n odd numbers.\n",
        "    * Use the generator to print the first 10 even and odd numbers respectively."
      ]
    },
    {
      "cell_type": "code",
      "execution_count": 166,
      "metadata": {},
      "outputs": [],
      "source": [
        "even_odd = ((str(number), 'even' if number % 2 == 0 else 'odd') for number in range(1, 10))"
      ]
    },
    {
      "cell_type": "code",
      "execution_count": 167,
      "metadata": {},
      "outputs": [
        {
          "data": {
            "text/plain": [
              "generator"
            ]
          },
          "execution_count": 167,
          "metadata": {},
          "output_type": "execute_result"
        }
      ],
      "source": [
        "type(even_odd)"
      ]
    },
    {
      "cell_type": "code",
      "execution_count": 177,
      "metadata": {},
      "outputs": [
        {
          "ename": "StopIteration",
          "evalue": "",
          "output_type": "error",
          "traceback": [
            "\u001b[1;31m---------------------------------------------------------------------------\u001b[0m",
            "\u001b[1;31mStopIteration\u001b[0m                             Traceback (most recent call last)",
            "\u001b[1;32mc:\\Users\\2000076134\\Downloads\\Python_introduction_4.ipynb Cell 31\u001b[0m in \u001b[0;36m<cell line: 1>\u001b[1;34m()\u001b[0m\n\u001b[1;32m----> <a href='vscode-notebook-cell:/c%3A/Users/2000076134/Downloads/Python_introduction_4.ipynb#X41sZmlsZQ%3D%3D?line=0'>1</a>\u001b[0m \u001b[39mnext\u001b[39;49m(even_odd)\n",
            "\u001b[1;31mStopIteration\u001b[0m: "
          ]
        }
      ],
      "source": [
        "next(even_odd)"
      ]
    },
    {
      "cell_type": "code",
      "execution_count": 200,
      "metadata": {},
      "outputs": [],
      "source": [
        "# You can have multiple yields\n",
        "def generator_example():\n",
        "    \n",
        "    number = 0\n",
        "    \n",
        "    while True: \n",
        "        number += 1\n",
        "        yield f\"{number} yield\"\n",
        "        # Code\n",
        "    #yield \"first yield\"\n",
        "    #yield \"second yield\"\n",
        "    "
      ]
    },
    {
      "cell_type": "code",
      "execution_count": 201,
      "metadata": {},
      "outputs": [],
      "source": [
        "generator_intance = generator_example()"
      ]
    },
    {
      "cell_type": "code",
      "execution_count": 324,
      "metadata": {},
      "outputs": [
        {
          "name": "stdout",
          "output_type": "stream",
          "text": [
            "123 yield\n"
          ]
        }
      ],
      "source": [
        "print(next(generator_intance))"
      ]
    },
    {
      "cell_type": "markdown",
      "metadata": {
        "id": "hZcvcOWLxLor"
      },
      "source": [
        "Here's an example of using generators in a business use case scenario:\n",
        "\n",
        "Imagine you're working for a company that deals with large amounts of data and you need to process this data in an efficient manner. You need to generate a list of all the customer IDs that have made a purchase over a certain amount in a given time period."
      ]
    },
    {
      "cell_type": "code",
      "execution_count": 326,
      "metadata": {
        "id": "Fas_0_7uxLor"
      },
      "outputs": [
        {
          "name": "stdout",
          "output_type": "stream",
          "text": [
            "1\n",
            "3\n",
            "4\n",
            "6\n"
          ]
        }
      ],
      "source": [
        "def customer_id_generator(purchase_data, min_amount):\n",
        "    for customer_id, purchase_amount in purchase_data:\n",
        "        if purchase_amount >= min_amount:\n",
        "            yield customer_id\n",
        "\n",
        "# Example data\n",
        "purchase_data = [\n",
        "    (1, 200),\n",
        "    (2, 150),\n",
        "    (3, 250),\n",
        "    (4, 300),\n",
        "    (5, 175),\n",
        "    (6, 400),\n",
        "    (7, 100)\n",
        "]\n",
        "\n",
        "# Use the generator to get customer IDs for purchases over $200\n",
        "customer_ids = customer_id_generator(purchase_data, 200)\n",
        "for id in customer_ids:\n",
        "    print(id)"
      ]
    },
    {
      "cell_type": "markdown",
      "metadata": {
        "id": "ilyT5ec1xLos"
      },
      "source": [
        "In this example, the customer_id_generator function acts as a generator that takes in the purchase data and a minimum purchase amount as arguments. It yields the customer IDs of customers who made purchases over the specified amount. This generator allows you to process the data in an efficient and memory-friendly manner, as it generates each customer ID one at a time, instead of generating the entire list at once."
      ]
    },
    {
      "cell_type": "markdown",
      "metadata": {
        "id": "0RB5-5YnxLos"
      },
      "source": [
        "> Content created by **Carlos Cruz-Maldonado**.  \n",
        "> Feel free to ping me at any time."
      ]
    }
  ],
  "metadata": {
    "colab": {
      "provenance": []
    },
    "kernelspec": {
      "display_name": "base",
      "language": "python",
      "name": "python3"
    },
    "language_info": {
      "codemirror_mode": {
        "name": "ipython",
        "version": 3
      },
      "file_extension": ".py",
      "mimetype": "text/x-python",
      "name": "python",
      "nbconvert_exporter": "python",
      "pygments_lexer": "ipython3",
      "version": "3.9.12"
    },
    "orig_nbformat": 4,
    "vscode": {
      "interpreter": {
        "hash": "3724d0f5762a99e6839fb4dbd4bdb548a98954709a09840cb011f6ea2b5eaba8"
      }
    }
  },
  "nbformat": 4,
  "nbformat_minor": 0
}
