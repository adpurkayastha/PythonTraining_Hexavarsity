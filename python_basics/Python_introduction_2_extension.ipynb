{
 "cells": [
  {
   "attachments": {},
   "cell_type": "markdown",
   "metadata": {},
   "source": [
    "# Markdown in Jupyter notebooks\n",
    "Markdown is a popular markup language that is a superset of HTML. Text can be added to Jupyter Notebooks using Markdown cells. You can change the cell type to Markdown by using the key shortcut `Esc + m` or directly specifiying in the toolbar menu. <a href= https://jupyter-notebook.readthedocs.io/en/stable/examples/Notebook/Working%20With%20Markdown%20Cells.html>Here</a> is the documentation with some examples.\n",
    "\n",
    "# Ipython\n",
    "\n",
    "IPython stands for interactive python, it is a powerfull interactive shell that provides a Python kernel for Jupyter notebooks and other interactive frontends.\n",
    "\n",
    "One of the most useful features of Ipython are the magic commands.\n",
    "\n",
    "## Magic commands\n",
    "\n",
    "IPython kernel uses the `%` syntax element for Magics as `%` is not a valid unary operator in Python. Here we show some useful IPython Magics\n",
    "\n",
    "[matplotlib](https://ipython.readthedocs.io/en/stable/interactive/magics.html#magic-matplotlib) - To enable the inline backend for usage with the Jupyter Notebook:\n",
    "```Python\n",
    "%matplotlib inline\n",
    "```\n",
    "\n",
    "[pip](https://ipython.readthedocs.io/en/stable/interactive/magics.html#magic-pip) - Run the pip package manager within the current kernel.\n",
    "```Python\n",
    "%pip\n",
    "```\n",
    "\n",
    "[pwd](https://ipython.readthedocs.io/en/stable/interactive/magics.html#magic-pwd) - Return the current working directory path.\n",
    "```Python\n",
    "%pwd\n",
    "```\n",
    "\n",
    "[reload_ext](https://ipython.readthedocs.io/en/stable/interactive/magics.html#magic-reload_ext) - Reload an IPython extension by its module name.\n",
    "```Python\n",
    "%reload_ext\n",
    "```\n",
    "\n",
    "[run](https://ipython.readthedocs.io/en/stable/interactive/magics.html#magic-run) - Run the named file inside IPython as a program.\n",
    "```Python\n",
    "%run\n",
    "```\n",
    "\n",
    "[writefile](https://ipython.readthedocs.io/en/stable/interactive/magics.html#cellmagic-writefile) - Write the contents of the cell to a file.\n",
    "```Python\n",
    "%%writefile\n",
    "```\n",
    "\n",
    "[timeit](https://ipython.readthedocs.io/en/stable/interactive/magics.html#magic-timeit) - Time execution of a Python statement or expression. \n",
    "```Python\n",
    "# Usage in line mode:\n",
    "%timeit\n",
    "\n",
    "# Usage in cell mode:\n",
    "%%timeit\n",
    "```"
   ]
  },
  {
   "cell_type": "markdown",
   "metadata": {},
   "source": []
  }
 ],
 "metadata": {
  "kernelspec": {
   "display_name": "Python 3.7.9 ('personal')",
   "language": "python",
   "name": "python3"
  },
  "language_info": {
   "codemirror_mode": {
    "name": "ipython",
    "version": 3
   },
   "file_extension": ".py",
   "mimetype": "text/x-python",
   "name": "python",
   "nbconvert_exporter": "python",
   "pygments_lexer": "ipython3",
   "version": "3.7.9"
  },
  "orig_nbformat": 4,
  "vscode": {
   "interpreter": {
    "hash": "252948c43895fb2cefa730c41b16e760efc56873c993d09cfc8bab107a8b51fd"
   }
  }
 },
 "nbformat": 4,
 "nbformat_minor": 2
}
