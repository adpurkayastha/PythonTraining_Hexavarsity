{
 "cells": [
  {
   "cell_type": "markdown",
   "metadata": {},
   "source": [
    "# NumPy Use Cases"
   ]
  },
  {
   "attachments": {},
   "cell_type": "markdown",
   "metadata": {},
   "source": [
    "Suppose you work for an e-commerce company that sells a variety of products online. Your company has collected data on customer purchases over the past few years and you have been tasked with analyzing this data to identify trends and patterns that can help drive business decisions.\n",
    "\n",
    "To start with, you use NumPy to preprocess and clean the data. You create a NumPy array to store the purchase data for all customers, with each row representing a customer and each column representing a product. You then use NumPy's array indexing and slicing capabilities to remove any rows or columns with missing data or outliers.\n"
   ]
  },
  {
   "cell_type": "code",
   "execution_count": null,
   "metadata": {},
   "outputs": [],
   "source": [
    "import numpy as np\n",
    "\n",
    "purchases_dtype = np.dtype([('customer_ID', 'i4')] + [(f'product_{ID}', 'i4') for ID in range(5)])\n",
    "\n",
    "purchase_data_structured = np.array([\n",
    "    (0, 1, 1, 0, 1, 1),\n",
    "    (1, 0, 0, 1, 0, 1),\n",
    "    (2, 1, 0, 1, 1, 1),\n",
    "    (3, 0, 1, 0, 1, 3),\n",
    "    (4, 0, 1, 1, 0, 1),\n",
    "], dtype=purchases_dtype)"
   ]
  },
  {
   "attachments": {},
   "cell_type": "markdown",
   "metadata": {},
   "source": [
    "In this example, there are five customers and five products. Each row represents a customer and each column represents a product. A value of 1 indicates that the customer purchased the product, and a value of 0 indicates that they did not."
   ]
  },
  {
   "cell_type": "code",
   "execution_count": null,
   "metadata": {},
   "outputs": [],
   "source": [
    "purchase_data_structured['customer_ID']"
   ]
  },
  {
   "cell_type": "code",
   "execution_count": null,
   "metadata": {},
   "outputs": [],
   "source": [
    "price_data = np.array([2.99, 1.50, 4.99, 3.25, 6.49])"
   ]
  },
  {
   "attachments": {},
   "cell_type": "markdown",
   "metadata": {},
   "source": [
    "This assumes that the order of the prices in the array corresponds to the order of the products in the customer purchase array (i.e. the first element in price_array corresponds to the price of the first product in the purchase array)."
   ]
  },
  {
   "attachments": {},
   "cell_type": "markdown",
   "metadata": {},
   "source": [
    "Next, you use NumPy's universal functions to perform various operations on the data. For example, you use NumPy's mean and standard deviation functions to calculate the average purchase amount and identify any customers who spend significantly more or less than the average. You also use NumPy's argmax and argmin functions to identify the most and least popular products, respectively.\n"
   ]
  },
  {
   "cell_type": "code",
   "execution_count": null,
   "metadata": {},
   "outputs": [],
   "source": [
    "numerical_fields = purchase_data_structured.dtype.names[1:]\n",
    "purchase_data_numerical_fields = purchase_data_structured[[*numerical_fields]]"
   ]
  },
  {
   "cell_type": "code",
   "execution_count": null,
   "metadata": {},
   "outputs": [],
   "source": [
    "purchase_data_numerical_fields"
   ]
  },
  {
   "cell_type": "code",
   "execution_count": null,
   "metadata": {},
   "outputs": [],
   "source": [
    "purchase_data = np.array([\n",
    "    [0, 1, 1, 0, 1],\n",
    "    [1, 0, 0, 1, 0],\n",
    "    [1, 1, 0, 1, 1],\n",
    "    [0, 0, 1, 0, 1],\n",
    "    [1, 0, 1, 1, 0],\n",
    "])"
   ]
  },
  {
   "cell_type": "code",
   "execution_count": null,
   "metadata": {},
   "outputs": [],
   "source": [
    "purchase_data = np.random.randint(2, size =(100,5))\n",
    "purchase_data[4, 3] = 100 # inserting outlier"
   ]
  },
  {
   "cell_type": "code",
   "execution_count": null,
   "metadata": {},
   "outputs": [],
   "source": [
    "# Calculate the total amount spent by each customer\n",
    "total_spent = np.dot(purchase_data, price_data)\n",
    "\n",
    "# Calculate the average purchase amount\n",
    "avg_purchase = np.mean(total_spent)\n",
    "\n",
    "# Calculate the standard deviation of purchase amounts\n",
    "std_purchase = np.std(total_spent)\n",
    "\n",
    "# Identify customers who spend significantly more or less than average\n",
    "outliers = np.where((total_spent < (avg_purchase - 2 * std_purchase)) | \n",
    "                    (total_spent > (avg_purchase + 2 * std_purchase)))\n",
    "\n",
    "# Print the results\n",
    "print(\"Average purchase amount: ${:.2f}\".format(avg_purchase))\n",
    "print(\"Standard deviation of purchase amounts: ${:.2f}\".format(std_purchase))\n",
    "print(\"Outliers: {}\".format(outliers))\n"
   ]
  },
  {
   "attachments": {},
   "cell_type": "markdown",
   "metadata": {},
   "source": [
    "    The price_data array contains the price of each product, with one element per column.\n",
    "\n",
    "    The code uses NumPy's dot() function to calculate the total amount spent by each customer, by multiplying the purchase amounts by the corresponding product prices. It then calculates the average purchase amount and standard deviation of purchase amounts using NumPy's mean() and std() functions.\n",
    "\n",
    "    Finally, the code identifies customers who spend significantly more or less than average using NumPy's where() function to create a boolean mask of outliers. The mask is created by comparing each element of the total_spent array to the mean plus or minus two standard deviations. The where() function returns the indices of the elements that satisfy the mask, which are then printed out."
   ]
  },
  {
   "attachments": {},
   "cell_type": "markdown",
   "metadata": {},
   "source": [
    "# Linear Regression Model Estimates"
   ]
  },
  {
   "attachments": {},
   "cell_type": "markdown",
   "metadata": {},
   "source": [
    "\n",
    "Lets gain a better understanding of another dataset, and use NumPy to build a linear regression model to predict a relationship between data. First, we are going to implement a simple linear regression using universal functions, then we are going to use NumPy's linear algebra capabilities to perform matrix operations, such as matrix multiplication and inverse, to estimate the model parameters. \n",
    "\n",
    "To make predictions we can use NumPy's broadcasting functionality to apply the model to new data.\n"
   ]
  },
  {
   "cell_type": "code",
   "execution_count": null,
   "metadata": {},
   "outputs": [],
   "source": [
    "import matplotlib.pyplot as plt"
   ]
  },
  {
   "attachments": {},
   "cell_type": "markdown",
   "metadata": {},
   "source": [
    "Data for the square footage and price of houses:"
   ]
  },
  {
   "cell_type": "code",
   "execution_count": null,
   "metadata": {},
   "outputs": [],
   "source": [
    "# Square footage of houses\n",
    "x = np.array([1400, 1600, 1700, 1875, 1100, 1550, 2350, 2450, 1425, 1700])\n",
    "\n",
    "# Price of houses\n",
    "y = np.array([245000, 312000, 279000, 308000, 199000, 219000, 405000, 324000, 319000, 255000])"
   ]
  },
  {
   "attachments": {},
   "cell_type": "markdown",
   "metadata": {},
   "source": [
    "We can visualize the relationship between price and square footage variables using a scatter plot.\n",
    "Plot of the data using Matplotlib:"
   ]
  },
  {
   "cell_type": "code",
   "execution_count": null,
   "metadata": {},
   "outputs": [],
   "source": [
    "plt.scatter(x, y)\n",
    "plt.xlabel('Square Footage')\n",
    "plt.ylabel('Price')\n",
    "plt.show()"
   ]
  },
  {
   "cell_type": "markdown",
   "metadata": {},
   "source": [
    "## Linear regression"
   ]
  },
  {
   "attachments": {},
   "cell_type": "markdown",
   "metadata": {},
   "source": [
    "$$Y = a+bX$$\n",
    "$$Y = \\text{Dependent Variable}$$\n",
    "$$b = \\text{Slope of the Line}$$\n",
    "$$a = \\text{Intercept}$$"
   ]
  },
  {
   "cell_type": "code",
   "execution_count": null,
   "metadata": {},
   "outputs": [],
   "source": [
    "def linear_regression(x, y):\n",
    "    n = len(x)\n",
    "    x_mean = np.mean(x)\n",
    "    y_mean = np.mean(y)\n",
    "    xy_mean = np.mean(x*y)\n",
    "    x_sq_mean = np.mean(x**2)\n",
    "    slope = (xy_mean - x_mean*y_mean)/(x_sq_mean - x_mean**2)\n",
    "    y_intercept = y_mean - slope*x_mean\n",
    "    return slope, y_intercept"
   ]
  },
  {
   "cell_type": "code",
   "execution_count": null,
   "metadata": {},
   "outputs": [],
   "source": [
    "slope, y_intercept = linear_regression(x, y)"
   ]
  },
  {
   "cell_type": "code",
   "execution_count": null,
   "metadata": {},
   "outputs": [],
   "source": [
    "x_range = np.linspace(np.min(x), np.max(x), 100)\n",
    "y_pred = slope*x_range + y_intercept\n",
    "plt.scatter(x, y)\n",
    "plt.plot(x_range, y_pred, color='red')\n",
    "plt.xlabel('Square Footage')\n",
    "plt.ylabel('Price')\n",
    "plt.show()"
   ]
  },
  {
   "cell_type": "code",
   "execution_count": null,
   "metadata": {},
   "outputs": [],
   "source": [
    "price_pred = slope*2000 + y_intercept\n",
    "print('The predicted price of a house with 2000 square feet is $', round(price_pred))"
   ]
  },
  {
   "attachments": {},
   "cell_type": "markdown",
   "metadata": {},
   "source": [
    "## Coeficient of determination\n",
    "$$R^2=1-\\frac{RSS}{TSS}$$  \n",
    "$$R^2 = \\text{coeficient of determination}$$\n",
    "$$RSS = \\text{sum of squares of residuals (Unexplained Variation)}$$\n",
    "$$TSS = \\text{total sum of squares (Total Variation)}$$  \n",
    "\n",
    "R-squared will give us an estimate of the relationship between movements of a dependent (y) variable based on an independent (x) variable's movements. It doesn't tell you whether your chosen model is good or bad, nor will it tell you whether the data and predictions are biased. [source](https://www.investopedia.com/terms/r/r-squared.asp)"
   ]
  },
  {
   "cell_type": "code",
   "execution_count": null,
   "metadata": {},
   "outputs": [],
   "source": [
    "y_pred = slope*x + y_intercept\n",
    "ss_res = np.sum((y - y_pred)**2)\n",
    "ss_tot = np.sum((y - np.mean(y))**2)\n",
    "r_squared = 1 - ss_res/ss_tot\n",
    "print('R-squared:', r_squared)"
   ]
  },
  {
   "attachments": {},
   "cell_type": "markdown",
   "metadata": {},
   "source": [
    "## Linear Regression Using Matrix Multiplication"
   ]
  },
  {
   "attachments": {},
   "cell_type": "markdown",
   "metadata": {},
   "source": [
    "Linear regression model:\n",
    "$$Y = \\beta_{0}+\\beta_{1} X+\\epsilon$$  \n",
    "\n",
    "$\\beta_{0}$ and $\\beta_{1}$ are intercept and slope of the linear equation."
   ]
  },
  {
   "cell_type": "code",
   "execution_count": null,
   "metadata": {},
   "outputs": [],
   "source": [
    "X_mat=np.vstack((np.ones(len(x)), x)).T"
   ]
  },
  {
   "cell_type": "code",
   "execution_count": null,
   "metadata": {},
   "outputs": [],
   "source": [
    "X_mat[0:5]"
   ]
  },
  {
   "attachments": {},
   "cell_type": "markdown",
   "metadata": {},
   "source": [
    "We can get our parameter estimates in the form of matrix multiplications:\n",
    "$$\\hat{\\beta}=(X^T.X)^{-1}.X^T.Y$$"
   ]
  },
  {
   "cell_type": "code",
   "execution_count": null,
   "metadata": {},
   "outputs": [],
   "source": [
    "beta_hat = np.linalg.inv(X_mat.T.dot(X_mat)).dot(X_mat.T).dot(y)"
   ]
  },
  {
   "cell_type": "code",
   "execution_count": null,
   "metadata": {},
   "outputs": [],
   "source": [
    "beta_hat"
   ]
  },
  {
   "cell_type": "code",
   "execution_count": null,
   "metadata": {},
   "outputs": [],
   "source": [
    "# predict using coefficients\n",
    "yhat = X_mat.dot(beta_hat)"
   ]
  },
  {
   "cell_type": "code",
   "execution_count": null,
   "metadata": {},
   "outputs": [],
   "source": [
    "plt.scatter(x, y)\n",
    "plt.xlabel('Square Footage')\n",
    "plt.ylabel('Price')\n",
    "plt.plot(x, yhat, color='red')"
   ]
  },
  {
   "attachments": {},
   "cell_type": "markdown",
   "metadata": {},
   "source": [
    "\n",
    "Based on your analysis and predictions, you can provide recommendations and how to optimize pricing."
   ]
  },
  {
   "attachments": {},
   "cell_type": "markdown",
   "metadata": {},
   "source": [
    "> Content created by **Carlos Cruz-Maldonado**.  \n",
    "> Feel free to ping me at any time."
   ]
  }
 ],
 "metadata": {
  "kernelspec": {
   "display_name": "personal",
   "language": "python",
   "name": "python3"
  },
  "language_info": {
   "codemirror_mode": {
    "name": "ipython",
    "version": 3
   },
   "file_extension": ".py",
   "mimetype": "text/x-python",
   "name": "python",
   "nbconvert_exporter": "python",
   "pygments_lexer": "ipython3",
   "version": "3.7.9"
  },
  "orig_nbformat": 4
 },
 "nbformat": 4,
 "nbformat_minor": 2
}
