{
 "cells": [
  {
   "attachments": {},
   "cell_type": "markdown",
   "metadata": {},
   "source": [
    "# NumPy"
   ]
  },
  {
   "attachments": {},
   "cell_type": "markdown",
   "metadata": {},
   "source": [
    "NumPy is a Python package used for scientific computing. It provides high-performance array objects and various tools for working with these arrays.\n",
    "\n",
    "Advantages of NumPy include:\n",
    "\n",
    "* Efficient storage and manipulation of large arrays of data.\n",
    "* Mathematical operations can be performed on entire arrays at once, which is faster than performing the same operations on each element of an array individually.\n",
    "* Broadcasting, which allows for arithmetic operations between arrays of different shapes and sizes.\n",
    "* Compatibility with a wide variety of other Python packages used in scientific computing, such as SciPy, Matplotlib, and Pandas."
   ]
  },
  {
   "attachments": {},
   "cell_type": "markdown",
   "metadata": {},
   "source": [
    "## Numpy Arrays  \n",
    "NumPy arrays are used for storing and manipulating large arrays of numerical data. Creating a NumPy array can be done by passing a list, tuple or array-like object to the `numpy.array()` function. Numpy arrays can be indexed and manipulated in a variety of ways. Basic operations with arrays include arithmetic operations, logical operations, and statistical operations.\n",
    "\n",
    "Multidimensional arrays can also be created, these are arrays with more than one dimension, and can be thought of as matrices or tensors. NumPy provides tools for creating and manipulating multidimensional arrays, as well as performing linear algebra operations on them.\n",
    "\n",
    "Here is an example of a one-dimensional array and a two-didimensional array:"
   ]
  },
  {
   "cell_type": "code",
   "execution_count": 2,
   "metadata": {},
   "outputs": [],
   "source": [
    "import numpy as np # import numpy library, and use np as alias (this is a convention)\n",
    "\n",
    "# create a one-dimensional array\n",
    "a = np.array([1, 2, 3])\n",
    "\n",
    "# create a two-dimensional array\n",
    "b = np.array([[1, 2, 3], [4, 5, 6]])"
   ]
  },
  {
   "attachments": {},
   "cell_type": "markdown",
   "metadata": {},
   "source": [
    "|1|2|3|\n",
    "|--|--|--|\n",
    "|4|5|6|\n"
   ]
  },
  {
   "cell_type": "code",
   "execution_count": 3,
   "metadata": {},
   "outputs": [
    {
     "data": {
      "text/plain": [
       "array([1, 2, 3])"
      ]
     },
     "execution_count": 3,
     "metadata": {},
     "output_type": "execute_result"
    }
   ],
   "source": [
    "a"
   ]
  },
  {
   "cell_type": "code",
   "execution_count": 4,
   "metadata": {},
   "outputs": [
    {
     "data": {
      "text/plain": [
       "array([[1, 2, 3],\n",
       "       [4, 5, 6]])"
      ]
     },
     "execution_count": 4,
     "metadata": {},
     "output_type": "execute_result"
    }
   ],
   "source": [
    "b"
   ]
  },
  {
   "cell_type": "code",
   "execution_count": 5,
   "metadata": {},
   "outputs": [
    {
     "data": {
      "text/plain": [
       "array([[[1, 2, 3],\n",
       "        [4, 5, 6]],\n",
       "\n",
       "       [[1, 2, 3],\n",
       "        [4, 5, 6]]])"
      ]
     },
     "execution_count": 5,
     "metadata": {},
     "output_type": "execute_result"
    }
   ],
   "source": [
    "np.array([[[1, 2, 3], [4, 5, 6]],[[1, 2, 3], [4, 5, 6]]])"
   ]
  },
  {
   "attachments": {},
   "cell_type": "markdown",
   "metadata": {},
   "source": [
    "Indexing a NumPy array is similar to indexing a regular Python list. For example:"
   ]
  },
  {
   "cell_type": "code",
   "execution_count": 6,
   "metadata": {},
   "outputs": [
    {
     "name": "stdout",
     "output_type": "stream",
     "text": [
      "2\n",
      "2\n"
     ]
    }
   ],
   "source": [
    "# access the second element of a one-dimensional array\n",
    "print(a[1])\n",
    "\n",
    "# access the element in the first row, second column of a two-dimensional array\n",
    "print(b[0, 1])"
   ]
  },
  {
   "cell_type": "code",
   "execution_count": 13,
   "metadata": {},
   "outputs": [
    {
     "data": {
      "text/plain": [
       "array([[[0., 0., 0., 0., 0.],\n",
       "        [0., 0., 0., 0., 0.],\n",
       "        [0., 0., 0., 0., 0.],\n",
       "        [0., 0., 0., 0., 0.],\n",
       "        [0., 0., 0., 0., 0.]],\n",
       "\n",
       "       [[0., 0., 0., 0., 0.],\n",
       "        [0., 0., 0., 0., 0.],\n",
       "        [0., 0., 0., 0., 0.],\n",
       "        [0., 0., 0., 0., 0.],\n",
       "        [0., 0., 0., 0., 0.]]])"
      ]
     },
     "execution_count": 13,
     "metadata": {},
     "output_type": "execute_result"
    }
   ],
   "source": [
    "np.zeros((2,5,5))"
   ]
  },
  {
   "cell_type": "code",
   "execution_count": 14,
   "metadata": {},
   "outputs": [
    {
     "data": {
      "text/plain": [
       "array([[[1., 1., 1., 1., 1.],\n",
       "        [1., 1., 1., 1., 1.],\n",
       "        [1., 1., 1., 1., 1.],\n",
       "        [1., 1., 1., 1., 1.],\n",
       "        [1., 1., 1., 1., 1.]],\n",
       "\n",
       "       [[1., 1., 1., 1., 1.],\n",
       "        [1., 1., 1., 1., 1.],\n",
       "        [1., 1., 1., 1., 1.],\n",
       "        [1., 1., 1., 1., 1.],\n",
       "        [1., 1., 1., 1., 1.]]])"
      ]
     },
     "execution_count": 14,
     "metadata": {},
     "output_type": "execute_result"
    }
   ],
   "source": [
    "np.ones((2,5,5))"
   ]
  },
  {
   "cell_type": "code",
   "execution_count": 17,
   "metadata": {},
   "outputs": [
    {
     "data": {
      "text/plain": [
       "array([[[5, 6, 7, 8, 9],\n",
       "        [5, 6, 7, 8, 9],\n",
       "        [5, 6, 7, 8, 9],\n",
       "        [5, 6, 7, 8, 9],\n",
       "        [5, 6, 7, 8, 9]],\n",
       "\n",
       "       [[5, 6, 7, 8, 9],\n",
       "        [5, 6, 7, 8, 9],\n",
       "        [5, 6, 7, 8, 9],\n",
       "        [5, 6, 7, 8, 9],\n",
       "        [5, 6, 7, 8, 9]]])"
      ]
     },
     "execution_count": 17,
     "metadata": {},
     "output_type": "execute_result"
    }
   ],
   "source": [
    "np.full((2,5,5), (5,6,7,8,9))"
   ]
  },
  {
   "cell_type": "code",
   "execution_count": 19,
   "metadata": {},
   "outputs": [
    {
     "data": {
      "text/plain": [
       "array([[27.63093004, 66.91587282, 49.78332954, 49.48376953, 26.66776191],\n",
       "       [ 5.50190845, 59.61239113, 63.26809163, 48.13913492, 43.68807751],\n",
       "       [92.43343064, 63.83096739, 10.1558528 , 43.34164894, 23.4522932 ],\n",
       "       [39.77790017, 43.6053735 ,  9.00802013, 76.48252687, 57.57413886],\n",
       "       [39.57275   , 73.79872319, 25.12621982, 19.24724167, 84.87510145]])"
      ]
     },
     "execution_count": 19,
     "metadata": {},
     "output_type": "execute_result"
    }
   ],
   "source": [
    "np.random.random((5,5)) * 100"
   ]
  },
  {
   "cell_type": "code",
   "execution_count": 21,
   "metadata": {},
   "outputs": [
    {
     "data": {
      "text/plain": [
       "numpy.ndarray"
      ]
     },
     "execution_count": 21,
     "metadata": {},
     "output_type": "execute_result"
    }
   ],
   "source": [
    "type(b)"
   ]
  },
  {
   "cell_type": "code",
   "execution_count": 23,
   "metadata": {},
   "outputs": [
    {
     "name": "stdout",
     "output_type": "stream",
     "text": [
      "[[1, 2, 3], [4, 5, 6]] <class 'list'>\n"
     ]
    }
   ],
   "source": [
    "\n",
    "print(b.tolist(), type(b.tolist()))"
   ]
  },
  {
   "attachments": {},
   "cell_type": "markdown",
   "metadata": {},
   "source": [
    "NumPy arrays can also be manipulated using various methods and functions. Some examples of basic operations that can be performed with arrays include element-wise arithmetic operations:"
   ]
  },
  {
   "cell_type": "code",
   "execution_count": 24,
   "metadata": {},
   "outputs": [
    {
     "data": {
      "text/plain": [
       "(array([1, 2, 3]),\n",
       " array([[1, 2, 3],\n",
       "        [4, 5, 6]]))"
      ]
     },
     "execution_count": 24,
     "metadata": {},
     "output_type": "execute_result"
    }
   ],
   "source": [
    "a, b"
   ]
  },
  {
   "cell_type": "code",
   "execution_count": 25,
   "metadata": {},
   "outputs": [],
   "source": [
    "# add two arrays element-wise\n",
    "c = a + b\n",
    "\n",
    "# multiply two arrays element-wise\n",
    "d = a * b"
   ]
  },
  {
   "cell_type": "code",
   "execution_count": 26,
   "metadata": {},
   "outputs": [
    {
     "data": {
      "text/plain": [
       "array([[2, 4, 6],\n",
       "       [5, 7, 9]])"
      ]
     },
     "execution_count": 26,
     "metadata": {},
     "output_type": "execute_result"
    }
   ],
   "source": [
    "c"
   ]
  },
  {
   "cell_type": "code",
   "execution_count": 29,
   "metadata": {},
   "outputs": [
    {
     "data": {
      "text/plain": [
       "(2, 3)"
      ]
     },
     "execution_count": 29,
     "metadata": {},
     "output_type": "execute_result"
    }
   ],
   "source": [
    "b.shape"
   ]
  },
  {
   "cell_type": "code",
   "execution_count": 31,
   "metadata": {},
   "outputs": [
    {
     "ename": "ValueError",
     "evalue": "operands could not be broadcast together with shapes (2,3) (4,) ",
     "output_type": "error",
     "traceback": [
      "\u001b[1;31m---------------------------------------------------------------------------\u001b[0m",
      "\u001b[1;31mValueError\u001b[0m                                Traceback (most recent call last)",
      "\u001b[1;32mc:\\Users\\2000076134\\OneDrive - Hexaware Technologies\\Documents\\GitHub\\PythonTraining_Hexavarsity\\python_topics\\numpy\\Numpy_introduction_0.ipynb Cell 22\u001b[0m in \u001b[0;36m<cell line: 1>\u001b[1;34m()\u001b[0m\n\u001b[1;32m----> <a href='vscode-notebook-cell:/c%3A/Users/2000076134/OneDrive%20-%20Hexaware%20Technologies/Documents/GitHub/PythonTraining_Hexavarsity/python_topics/numpy/Numpy_introduction_0.ipynb#X55sZmlsZQ%3D%3D?line=0'>1</a>\u001b[0m b \u001b[39m+\u001b[39;49m np\u001b[39m.\u001b[39;49marray([\u001b[39m1\u001b[39;49m,\u001b[39m2\u001b[39;49m,\u001b[39m3\u001b[39;49m,\u001b[39m4\u001b[39;49m])\n",
      "\u001b[1;31mValueError\u001b[0m: operands could not be broadcast together with shapes (2,3) (4,) "
     ]
    }
   ],
   "source": [
    "b + np.array([1,2,3,4])"
   ]
  },
  {
   "cell_type": "code",
   "execution_count": 32,
   "metadata": {},
   "outputs": [
    {
     "data": {
      "text/plain": [
       "array([[1, 2, 3],\n",
       "       [4, 5, 6]])"
      ]
     },
     "execution_count": 32,
     "metadata": {},
     "output_type": "execute_result"
    }
   ],
   "source": [
    "b"
   ]
  },
  {
   "cell_type": "code",
   "execution_count": 27,
   "metadata": {},
   "outputs": [
    {
     "data": {
      "text/plain": [
       "array([[ 1,  4,  9],\n",
       "       [ 4, 10, 18]])"
      ]
     },
     "execution_count": 27,
     "metadata": {},
     "output_type": "execute_result"
    }
   ],
   "source": [
    "d"
   ]
  },
  {
   "attachments": {},
   "cell_type": "markdown",
   "metadata": {},
   "source": [
    "Logical operations can also be performed with arrays:"
   ]
  },
  {
   "cell_type": "code",
   "execution_count": 33,
   "metadata": {},
   "outputs": [],
   "source": [
    "# create a boolean array based on a condition\n",
    "e = (a > 2)\n",
    "\n",
    "# use boolean indexing to select elements from an array\n",
    "f = a[e]"
   ]
  },
  {
   "cell_type": "code",
   "execution_count": 37,
   "metadata": {},
   "outputs": [
    {
     "data": {
      "text/plain": [
       "(array([1, 2, 3]), array([False, False,  True]))"
      ]
     },
     "execution_count": 37,
     "metadata": {},
     "output_type": "execute_result"
    }
   ],
   "source": [
    "a, e"
   ]
  },
  {
   "cell_type": "code",
   "execution_count": 35,
   "metadata": {},
   "outputs": [
    {
     "data": {
      "text/plain": [
       "dtype('bool')"
      ]
     },
     "execution_count": 35,
     "metadata": {},
     "output_type": "execute_result"
    }
   ],
   "source": [
    "e.dtype"
   ]
  },
  {
   "cell_type": "code",
   "execution_count": 38,
   "metadata": {},
   "outputs": [
    {
     "data": {
      "text/plain": [
       "array([3])"
      ]
     },
     "execution_count": 38,
     "metadata": {},
     "output_type": "execute_result"
    }
   ],
   "source": [
    "f"
   ]
  },
  {
   "attachments": {},
   "cell_type": "markdown",
   "metadata": {},
   "source": [
    "NumPy arrays can have any number of dimensions, but are commonly used for two-dimensional arrays (matrices) and three-dimensional arrays (tensors). Multidimensional arrays can be indexed and manipulated in a similar way to one-dimensional arrays:"
   ]
  },
  {
   "cell_type": "code",
   "execution_count": 39,
   "metadata": {},
   "outputs": [
    {
     "name": "stdout",
     "output_type": "stream",
     "text": [
      "6\n"
     ]
    }
   ],
   "source": [
    "# create a three-dimensional array\n",
    "g = np.array([[[1, 2], [3, 4]], [[5, 6], [7, 8]]])\n",
    "\n",
    "# access an element in the second row, first column, and second \"layer\"\n",
    "print(g[1, 0, 1])\n",
    "\n",
    "# compute the sum of each row in a two-dimensional array\n",
    "h = np.sum(b, axis=1)"
   ]
  },
  {
   "cell_type": "code",
   "execution_count": 41,
   "metadata": {},
   "outputs": [
    {
     "data": {
      "text/plain": [
       "array([[1, 2, 3],\n",
       "       [4, 5, 6]])"
      ]
     },
     "execution_count": 41,
     "metadata": {},
     "output_type": "execute_result"
    }
   ],
   "source": [
    "b"
   ]
  },
  {
   "cell_type": "code",
   "execution_count": 42,
   "metadata": {},
   "outputs": [
    {
     "data": {
      "text/plain": [
       "array([5, 7, 9])"
      ]
     },
     "execution_count": 42,
     "metadata": {},
     "output_type": "execute_result"
    }
   ],
   "source": [
    "np.sum(b, axis=0)"
   ]
  },
  {
   "cell_type": "code",
   "execution_count": 40,
   "metadata": {},
   "outputs": [
    {
     "data": {
      "text/plain": [
       "array([ 6, 15])"
      ]
     },
     "execution_count": 40,
     "metadata": {},
     "output_type": "execute_result"
    }
   ],
   "source": [
    "h"
   ]
  },
  {
   "cell_type": "markdown",
   "metadata": {},
   "source": [
    "Can you guess what happened in the code above? Let’s break it down."
   ]
  },
  {
   "attachments": {},
   "cell_type": "markdown",
   "metadata": {},
   "source": [
    "## Universal Functions\n",
    "NumPy provides a range of mathematical functions, called \"universal functions\", that can be applied to an entire array at once, making computations much faster and more efficient.\n"
   ]
  },
  {
   "cell_type": "code",
   "execution_count": 43,
   "metadata": {},
   "outputs": [
    {
     "name": "stdout",
     "output_type": "stream",
     "text": [
      "[1.         1.41421356 1.73205081 2.         2.23606798]\n",
      "[  2.71828183   7.3890561   20.08553692  54.59815003 148.4131591 ]\n"
     ]
    }
   ],
   "source": [
    "arr = np.array([1, 2, 3, 4, 5])\n",
    "\n",
    "# Applying the square root function to all elements in the array\n",
    "sqrt_arr = np.sqrt(arr)\n",
    "print(sqrt_arr)\n",
    "\n",
    "# Applying the exponential function to all elements in the array\n",
    "exp_arr = np.exp(arr)\n",
    "print(exp_arr)"
   ]
  },
  {
   "attachments": {},
   "cell_type": "markdown",
   "metadata": {},
   "source": [
    "\n",
    "## Broadcasting\n",
    "Broadcasting is the process by which NumPy automatically handles operations between arrays of different shapes and sizes. This means that arrays can be added, subtracted, multiplied, and divided element-wise even if they are different sizes or shapes.\n"
   ]
  },
  {
   "cell_type": "code",
   "execution_count": 44,
   "metadata": {},
   "outputs": [
    {
     "name": "stdout",
     "output_type": "stream",
     "text": [
      "[ 2  4  6  8 10]\n",
      "[[11 22]\n",
      " [13 24]]\n"
     ]
    }
   ],
   "source": [
    "# Broadcasting a scalar to an array\n",
    "scalar = 2\n",
    "broadcasted_arr = arr * scalar\n",
    "print(broadcasted_arr)\n",
    "\n",
    "# Broadcasting arrays of different shapes\n",
    "arr1 = np.array([[1, 2], [3, 4]])\n",
    "arr2 = np.array([10, 20])\n",
    "broadcasted_arr = arr1 + arr2\n",
    "print(broadcasted_arr)"
   ]
  },
  {
   "attachments": {},
   "cell_type": "markdown",
   "metadata": {},
   "source": [
    "\n",
    "## Array Shape Manipulation\n",
    "NumPy provides a variety of functions for reshaping arrays, including changing their dimensions, rearranging elements, and combining arrays.\n"
   ]
  },
  {
   "cell_type": "code",
   "execution_count": 46,
   "metadata": {},
   "outputs": [
    {
     "ename": "ValueError",
     "evalue": "cannot reshape array of size 6 into shape (1,3)",
     "output_type": "error",
     "traceback": [
      "\u001b[1;31m---------------------------------------------------------------------------\u001b[0m",
      "\u001b[1;31mValueError\u001b[0m                                Traceback (most recent call last)",
      "\u001b[1;32mc:\\Users\\2000076134\\OneDrive - Hexaware Technologies\\Documents\\GitHub\\PythonTraining_Hexavarsity\\python_topics\\numpy\\Numpy_introduction_0.ipynb Cell 41\u001b[0m in \u001b[0;36m<cell line: 1>\u001b[1;34m()\u001b[0m\n\u001b[1;32m----> <a href='vscode-notebook-cell:/c%3A/Users/2000076134/OneDrive%20-%20Hexaware%20Technologies/Documents/GitHub/PythonTraining_Hexavarsity/python_topics/numpy/Numpy_introduction_0.ipynb#X66sZmlsZQ%3D%3D?line=0'>1</a>\u001b[0m arr\u001b[39m.\u001b[39;49mreshape(\u001b[39m1\u001b[39;49m, \u001b[39m3\u001b[39;49m)\n",
      "\u001b[1;31mValueError\u001b[0m: cannot reshape array of size 6 into shape (1,3)"
     ]
    }
   ],
   "source": [
    "arr.reshape(1, 3)"
   ]
  },
  {
   "cell_type": "code",
   "execution_count": 45,
   "metadata": {},
   "outputs": [
    {
     "name": "stdout",
     "output_type": "stream",
     "text": [
      "[[1 2 3]\n",
      " [4 5 6]]\n",
      "[1 2 3 4 5 6]\n",
      "[[1 4]\n",
      " [2 5]\n",
      " [3 6]]\n"
     ]
    }
   ],
   "source": [
    "# Reshaping an array\n",
    "arr = np.array([1, 2, 3, 4, 5, 6])\n",
    "reshaped_arr = arr.reshape(2, 3)\n",
    "print(reshaped_arr)\n",
    "\n",
    "# Flattening an array\n",
    "flattened_arr = reshaped_arr.flatten()\n",
    "print(flattened_arr)\n",
    "\n",
    "# Transposing an array\n",
    "transposed_arr = reshaped_arr.T\n",
    "print(transposed_arr)"
   ]
  },
  {
   "attachments": {},
   "cell_type": "markdown",
   "metadata": {},
   "source": [
    "\n",
    "## Masking and Boolean Logic\n",
    "NumPy arrays can be used to represent Boolean values and can be used for logical operations such as AND, OR, and NOT. They can also be used for masking, which is the process of setting certain elements in an array to a specific value based on a Boolean condition.\n"
   ]
  },
  {
   "cell_type": "code",
   "execution_count": 47,
   "metadata": {},
   "outputs": [
    {
     "name": "stdout",
     "output_type": "stream",
     "text": [
      "[-- 2 -- 4 5]\n",
      "[False False False False]\n",
      "[ True  True  True  True]\n",
      "[False  True False  True]\n"
     ]
    }
   ],
   "source": [
    "# Creating a masked array\n",
    "arr = np.array([1, 2, 3, 4, 5])\n",
    "mask = np.array([True, False, True, False, False])\n",
    "masked_arr = np.ma.masked_array(arr, mask)\n",
    "print(masked_arr)\n",
    "\n",
    "# Boolean logic with arrays\n",
    "arr1 = np.array([True, False, True, False])\n",
    "arr2 = np.array([False, True, False, True])\n",
    "print(np.logical_and(arr1, arr2))\n",
    "print(np.logical_or(arr1, arr2))\n",
    "print(np.logical_not(arr1))"
   ]
  },
  {
   "cell_type": "code",
   "execution_count": 48,
   "metadata": {},
   "outputs": [
    {
     "data": {
      "text/plain": [
       "array([1, 3])"
      ]
     },
     "execution_count": 48,
     "metadata": {},
     "output_type": "execute_result"
    }
   ],
   "source": [
    "arr[mask]"
   ]
  },
  {
   "cell_type": "markdown",
   "metadata": {},
   "source": [
    "\n",
    "## Structured Arrays\n",
    "NumPy allows for the creation of structured arrays, which are arrays of structured data types that can be used to represent more complex data structures than regular arrays. They can be used to store and manipulate heterogeneous data, such as data from a database or spreadsheet."
   ]
  },
  {
   "cell_type": "code",
   "execution_count": 49,
   "metadata": {},
   "outputs": [
    {
     "name": "stdout",
     "output_type": "stream",
     "text": [
      "[(b'John', 25, 1.75, 1) (b'Jane', 30, 1.68, 0)]\n",
      "[b'John' b'Jane']\n",
      "[25 30]\n",
      "[1 0]\n"
     ]
    }
   ],
   "source": [
    "# Creating a structured array\n",
    "person_dtype = np.dtype([('name', 'S10'), ('age', 'i4'), ('height', 'f'), ('is_married', 'b')])\n",
    "person_arr = np.array([('John', 25, 1.75, True), ('Jane', 30, 1.68, False)], dtype=person_dtype)\n",
    "print(person_arr)\n",
    "\n",
    "# Accessing fields in a structured array\n",
    "print(person_arr['name'])\n",
    "print(person_arr['age'])\n",
    "print(person_arr['is_married'])"
   ]
  },
  {
   "attachments": {},
   "cell_type": "markdown",
   "metadata": {},
   "source": [
    "NumPy exercises covering the topics previously mentioned:\n",
    "\n",
    "1. Create a 1D NumPy array with the numbers from 1 to 10.\n",
    "2. Create a 2D NumPy array with shape (3, 3) with random integer values between 0 and 9.\n",
    "3. Use indexing to access the second element of the 1D array and the (1, 1) element of the 2D array.\n",
    "4. Use slicing to create a new array with the last five elements of the 1D array and the first two rows of the 2Darray.\n",
    "5. Use basic operations (+, -, *, /, **) to perform calculations on the 1D and 2D arrays.\n",
    "6. Use a universal function (e.g. np.sqrt()) to calculate the square root of all elements in the 1D array.\n",
    "7. Use broadcasting to add a scalar value of 10 to each element in the 1D array and each element in the secondcolumn of the 2D array.\n",
    "8. Use array shape manipulation functions (e.g. np.reshape(), np.transpose()) to manipulate the shape of the 1D and2D arrays.\n",
    "9. Use masking and Boolean logic to create a new array with all elements of the 1D array greater than 5 and allelements of the 2D array less than 5.\n",
    "10. Create a structured array with two fields, 'name' and 'age', and add data for three people."
   ]
  },
  {
   "attachments": {},
   "cell_type": "markdown",
   "metadata": {},
   "source": [
    "> Content created by **Carlos Cruz-Maldonado**.  \n",
    "> Feel free to ping me at any time."
   ]
  }
 ],
 "metadata": {
  "kernelspec": {
   "display_name": "base",
   "language": "python",
   "name": "python3"
  },
  "language_info": {
   "codemirror_mode": {
    "name": "ipython",
    "version": 3
   },
   "file_extension": ".py",
   "mimetype": "text/x-python",
   "name": "python",
   "nbconvert_exporter": "python",
   "pygments_lexer": "ipython3",
   "version": "3.9.12"
  },
  "orig_nbformat": 4,
  "vscode": {
   "interpreter": {
    "hash": "3724d0f5762a99e6839fb4dbd4bdb548a98954709a09840cb011f6ea2b5eaba8"
   }
  }
 },
 "nbformat": 4,
 "nbformat_minor": 2
}
