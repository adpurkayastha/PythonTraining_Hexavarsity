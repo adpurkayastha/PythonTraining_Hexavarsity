{
 "cells": [
  {
   "attachments": {},
   "cell_type": "markdown",
   "metadata": {},
   "source": [
    "# Numpy Image manipulation"
   ]
  },
  {
   "cell_type": "code",
   "execution_count": null,
   "metadata": {},
   "outputs": [],
   "source": [
    "import numpy as np\n",
    "import matplotlib.pyplot as plt"
   ]
  },
  {
   "attachments": {},
   "cell_type": "markdown",
   "metadata": {},
   "source": [
    "## Custom image"
   ]
  },
  {
   "cell_type": "code",
   "execution_count": null,
   "metadata": {},
   "outputs": [],
   "source": [
    "from PIL import Image # You can try to upload your own image with PIL.\n",
    "\n",
    "# load the image\n",
    "image = Image.open('example.jpg')\n",
    "\n",
    "# convert the image to a numpy array\n",
    "image_array = np.array(image)\n",
    "\n",
    "print(image_array.shape)\n",
    "\n",
    "# show the image\n",
    "plt.imshow(image_array)"
   ]
  },
  {
   "attachments": {},
   "cell_type": "markdown",
   "metadata": {},
   "source": [
    "## Pedefined image"
   ]
  },
  {
   "cell_type": "code",
   "execution_count": null,
   "metadata": {},
   "outputs": [],
   "source": [
    "from scipy.misc import face\n",
    "\n",
    "# load the image from the scipy.misc.face() function\n",
    "image_array = face()\n",
    "\n",
    "print(image_array.shape)\n",
    "\n",
    "# show the image\n",
    "plt.imshow(image_array)"
   ]
  },
  {
   "cell_type": "code",
   "execution_count": null,
   "metadata": {},
   "outputs": [],
   "source": [
    "# this is the raw form of the image\n",
    "image_array"
   ]
  },
  {
   "cell_type": "code",
   "execution_count": null,
   "metadata": {},
   "outputs": [],
   "source": [
    "image_array.max()"
   ]
  },
  {
   "attachments": {},
   "cell_type": "markdown",
   "metadata": {},
   "source": [
    "Can you guess why this is the maximum value?"
   ]
  },
  {
   "cell_type": "code",
   "execution_count": null,
   "metadata": {},
   "outputs": [],
   "source": [
    "# extract the red channel of the image\n",
    "red_channel = image_array[:,:,0]\n",
    "\n",
    "# apply a Gaussian blur to the red channel\n",
    "from scipy.ndimage.filters import gaussian_filter\n",
    "blurred_red = gaussian_filter(red_channel, sigma=3)\n",
    "\n",
    "# create a binary mask by thresholding the blurred image\n",
    "threshold = 200\n",
    "mask = blurred_red < threshold\n",
    "\n",
    "# apply the mask to the original image\n",
    "masked_image = np.copy(image_array)\n",
    "masked_image[mask] = [0, 0, 0]\n",
    "\n",
    "# display the original and masked images\n",
    "fig, ax = plt.subplots(nrows=2, ncols=3, figsize=(10,6))\n",
    "\n",
    "for c, ax_0 in zip(range(3), ax[0]):\n",
    "    rgb_img = np.zeros(image_array.shape, dtype=\"uint8\")\n",
    "    rgb_img[:,:,c] = image_array[:,:,c]\n",
    "    ax_0.imshow(rgb_img)\n",
    "    ax_0.set_title(f'RGB Layer {c}')\n",
    "\n",
    "ax[1,0].imshow(red_channel)\n",
    "ax[1,0].set_title('Image Without Red Channel')\n",
    "\n",
    "ax[1,1].imshow(image_array)\n",
    "ax[1,1].set_title('Original Image')\n",
    "\n",
    "ax[1,2].imshow(masked_image)\n",
    "ax[1,2].set_title('Masked Image')\n",
    "\n",
    "for image in ax.flatten():\n",
    "    image.set_axis_off()\n",
    "    \n",
    "plt.show()"
   ]
  },
  {
   "attachments": {},
   "cell_type": "markdown",
   "metadata": {},
   "source": [
    "Images are made up of pixel values. Numbers define the colors in the image as basically an array. \n",
    "\n",
    "This code loads an image, converts it to a NumPy array, then separates each color layer (first row) and extracts the red channel of the image, applies a Gaussian blur to the red channel, creates a binary mask by thresholding the blurred image, applies the mask to the original image, and displays the image without red channel, the original and masked image in the (second row)."
   ]
  },
  {
   "attachments": {},
   "cell_type": "markdown",
   "metadata": {},
   "source": [
    "You can explore more image manipulation and transformations in this sources:  \n",
    "* [A beginner’s guide to image processing using NumPy](https://analyticsindiamag.com/a-beginners-guide-to-image-processing-using-numpy/)  \n",
    "* [Image manipulation and processing using Numpy and Scipy](https://scipy-lectures.org/advanced/image_processing/)"
   ]
  },
  {
   "attachments": {},
   "cell_type": "markdown",
   "metadata": {},
   "source": [
    "> Content created by **Carlos Cruz-Maldonado**.  \n",
    "> Feel free to ping me at any time."
   ]
  }
 ],
 "metadata": {
  "kernelspec": {
   "display_name": "personal",
   "language": "python",
   "name": "python3"
  },
  "language_info": {
   "codemirror_mode": {
    "name": "ipython",
    "version": 3
   },
   "file_extension": ".py",
   "mimetype": "text/x-python",
   "name": "python",
   "nbconvert_exporter": "python",
   "pygments_lexer": "ipython3",
   "version": "3.7.9"
  },
  "orig_nbformat": 4
 },
 "nbformat": 4,
 "nbformat_minor": 2
}
